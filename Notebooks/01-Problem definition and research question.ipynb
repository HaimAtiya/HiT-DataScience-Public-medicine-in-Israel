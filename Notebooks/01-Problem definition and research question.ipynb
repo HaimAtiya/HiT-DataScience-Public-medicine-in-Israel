{
 "cells": [
  {
   "cell_type": "markdown",
   "id": "7516c358",
   "metadata": {},
   "source": [
    "# Public medicine in Israel"
   ]
  },
  {
   "cell_type": "markdown",
   "id": "6b182e9f",
   "metadata": {},
   "source": [
    "**Presented By**: Haim Atiya  \n",
    "**Lecturers**: Dr. Naama Kopelman & Dr. Jonathan Schler\t\n",
    "**Spring Semester 2022**  \n",
    "**Holon Institute of Technology**"
   ]
  },
  {
   "cell_type": "markdown",
   "id": "5813a94c",
   "metadata": {},
   "source": [
    "# 1. Problem definition and research question"
   ]
  },
  {
   "cell_type": "markdown",
   "id": "131ec04f",
   "metadata": {},
   "source": [
    "In this project I would like to explore the waiting times for doctors in public medicine in Israel.  \n",
    "Public medicine in Israel is considered very good,  \n",
    "but lacks when it comes to waiting times for doctors.  \n",
    "Nowadays, in order to get a specialist doctor (such as a neurologist, cardiologist, etc.)  \n",
    "it is usually necessary to wait a long time until an appointment with a doctor,  \n",
    "sometimes it is a very valuable time that can cost a human life.\n",
    "\n",
    "In this project I would like to check what causes a long waiting time for doctors and whether it can be shortened."
   ]
  },
  {
   "cell_type": "markdown",
   "id": "a04ed38f",
   "metadata": {},
   "source": [
    "> #  1.1 Research question"
   ]
  },
  {
   "cell_type": "markdown",
   "id": "a00f6d4f",
   "metadata": {},
   "source": [
    "## What features doctors who require a long wait, and is it possible to have an appointment with a shorter wait?"
   ]
  },
  {
   "cell_type": "markdown",
   "id": "5b0b4b88",
   "metadata": {},
   "source": [
    "> # 1.2 Data sources"
   ]
  },
  {
   "cell_type": "markdown",
   "id": "41d9ad3f",
   "metadata": {},
   "source": [
    "## Maccabi HMO website [maccabi4u.co.il](https://maccabi4u.co.il)\n",
    "I chose this HMO for a number of reasons:  \n",
    "1. The information is accessible to everyone without the need to be a member of the HMO.  \n",
    "2. Maccabi Health Services is considered the second largest fund in Israel and is able to represent the other existing funds in the country as a sample.  \n",
    "3. The other HMOs use third-party services to schedule appointments in a system that does not allow information to be taken freely."
   ]
  },
  {
   "cell_type": "markdown",
   "id": "66be4b63",
   "metadata": {},
   "source": [
    "> # 1.3 Data mining methods"
   ]
  },
  {
   "cell_type": "markdown",
   "id": "fb00bced",
   "metadata": {},
   "source": [
    "I choose to crawl the data using *selenuim* due  to the complexity of the website  \n",
    "and DOM that is not generated in advance but while running."
   ]
  }
 ],
 "metadata": {
  "kernelspec": {
   "display_name": "Python 3 (ipykernel)",
   "language": "python",
   "name": "python3"
  },
  "language_info": {
   "codemirror_mode": {
    "name": "ipython",
    "version": 3
   },
   "file_extension": ".py",
   "mimetype": "text/x-python",
   "name": "python",
   "nbconvert_exporter": "python",
   "pygments_lexer": "ipython3",
   "version": "3.9.7"
  }
 },
 "nbformat": 4,
 "nbformat_minor": 5
}
