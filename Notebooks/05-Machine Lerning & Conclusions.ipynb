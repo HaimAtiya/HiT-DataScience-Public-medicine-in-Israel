{
 "cells": [
  {
   "cell_type": "markdown",
   "id": "05b795f4",
   "metadata": {},
   "source": [
    "# 5. Machine Lerning\n"
   ]
  },
  {
   "cell_type": "markdown",
   "id": "43109d83",
   "metadata": {},
   "source": [
    "After the EDA & Visualization phase, we can start predict.\n",
    "To do this, we will first import the required directories:"
   ]
  },
  {
   "cell_type": "code",
   "execution_count": 1,
   "id": "5cf62890",
   "metadata": {},
   "outputs": [],
   "source": [
    "import pandas as pd\n",
    "import numpy as np\n",
    "import matplotlib as mpl\n",
    "import matplotlib.pyplot as plt\n",
    "import seaborn as sns\n",
    "from collections import Counter\n",
    "import sklearn\n",
    "from sklearn import linear_model, metrics, preprocessing\n",
    "from sklearn.preprocessing import StandardScaler, MinMaxScaler, LabelEncoder\n",
    "from sklearn.linear_model import LogisticRegression, LinearRegression\n",
    "from sklearn.metrics import r2_score, f1_score\n",
    "from sklearn.model_selection import train_test_split\n",
    "import warnings\n",
    "%matplotlib inline\n",
    "warnings.simplefilter(action=\"ignore\", category=FutureWarning)"
   ]
  },
  {
   "cell_type": "markdown",
   "id": "0d14bdf8",
   "metadata": {},
   "source": [
    "Load the dataset:"
   ]
  },
  {
   "cell_type": "code",
   "execution_count": 2,
   "id": "d379932a",
   "metadata": {},
   "outputs": [],
   "source": [
    "df = pd.read_csv('data/data_after_encoding.csv')"
   ]
  },
  {
   "cell_type": "markdown",
   "id": "a2f71ffe",
   "metadata": {},
   "source": [
    "> # 5.1 The question"
   ]
  },
  {
   "cell_type": "markdown",
   "id": "56f8dc6e",
   "metadata": {},
   "source": [
    "### What features doctors who require a long wait, and is it possible to have an appointment with a shorter wait?"
   ]
  },
  {
   "cell_type": "markdown",
   "id": "ce549a41",
   "metadata": {},
   "source": [
    "First, let's define \"long wait\".  \n",
    "There are 2 types of treatment that we should seperate them:  \n",
    "1. Family / Pediatric / First Medicine  \n",
    "2. Specialist medicine  \n",
    "\n",
    "We can easily seperate them thanks to the visit cost rates.  \n",
    "As mentioned earliar, first medicine cost 0 NIS per visit.  \n",
    "All other treatments cost 30NIS per visit.  \n",
    "Lets use that to define boolean column and append this to our dataframe.  \n",
    "Later wer'e gonna use that as the prediction column."
   ]
  },
  {
   "cell_type": "code",
   "execution_count": 3,
   "id": "f0ebc848",
   "metadata": {},
   "outputs": [],
   "source": [
    "longWait = ((df[\"visitCost\"] == 0) & (df[\"daysToAppointment\"] > 7)) | ((df[\"visitCost\"] > 0) & (df[\"daysToAppointment\"] > 21))\n",
    "df[\"longWait\"] = longWait.astype(int)"
   ]
  },
  {
   "cell_type": "markdown",
   "id": "4637b3d5",
   "metadata": {},
   "source": [
    "> # 5.2 The Method"
   ]
  },
  {
   "cell_type": "markdown",
   "id": "54d33d13",
   "metadata": {},
   "source": [
    "Since our problem type is classfication, i choose the **LogisticRegression** algorithem using **f1 scoring** to evaluate the performance."
   ]
  },
  {
   "cell_type": "markdown",
   "id": "f265eb1b",
   "metadata": {},
   "source": [
    "> #  5.3 Pre-Implementation"
   ]
  },
  {
   "cell_type": "markdown",
   "id": "6b0f20ca",
   "metadata": {},
   "source": [
    "## Important functions:"
   ]
  },
  {
   "cell_type": "code",
   "execution_count": 4,
   "id": "48b3af73",
   "metadata": {},
   "outputs": [],
   "source": [
    "def split_to_X_and_y(df, target_column):\n",
    "    dfcpy = df.copy()\n",
    "    y = pd.Series(dfcpy[target_column])\n",
    "    del dfcpy[target_column]\n",
    "    X = dfcpy\n",
    "    return X, y\n",
    "    \n",
    "def split_to_train_and_test(X, y, test_ratio, rand_state):\n",
    "    X_train, X_test, y_train, y_test = train_test_split(X, y, test_size=test_ratio, random_state=rand_state)\n",
    "    return X_train, X_test, y_train, y_test\n",
    "\n",
    "def train_model(X_train, y_train):\n",
    "    model=linear_model.LogisticRegression(class_weight = 'balanced', max_iter=10000).fit(X_train, y_train)\n",
    "    return model\n",
    "\n",
    "def predict(trained_model, X_test):\n",
    "    return trained_model.predict(X_test)\n",
    "\n",
    "def evaluate_performance(y_test,y_predicted):\n",
    "    metrics.confusion_matrix(y_test, y_predicted)\n",
    "    return metrics.f1_score(y_test, y_predicted, average=\"macro\")"
   ]
  },
  {
   "cell_type": "markdown",
   "id": "a4f92705",
   "metadata": {},
   "source": [
    "> #  5.4 Implementation"
   ]
  },
  {
   "cell_type": "markdown",
   "id": "fde018aa",
   "metadata": {},
   "source": [
    "Let's split to X and y."
   ]
  },
  {
   "cell_type": "code",
   "execution_count": 5,
   "id": "7b9da7ca",
   "metadata": {},
   "outputs": [],
   "source": [
    "X, y = split_to_X_and_y(df, \"longWait\")"
   ]
  },
  {
   "cell_type": "markdown",
   "id": "7f46ce2c",
   "metadata": {},
   "source": [
    "Great, Now lets split the dataframe int train and test using the function we created earlier."
   ]
  },
  {
   "cell_type": "code",
   "execution_count": 6,
   "id": "481d6526",
   "metadata": {},
   "outputs": [],
   "source": [
    "X_train, X_test, y_train, y_test = split_to_train_and_test(X, y, 0.20, 42)"
   ]
  },
  {
   "cell_type": "markdown",
   "id": "7cc2362f",
   "metadata": {},
   "source": [
    "Now were gonna train the model and predict:"
   ]
  },
  {
   "cell_type": "code",
   "execution_count": 7,
   "id": "6924ddb1",
   "metadata": {},
   "outputs": [],
   "source": [
    "trained_model = train_model(X_train, y_train)\n",
    "scaler = preprocessing.StandardScaler().fit(X_train)\n",
    "X_scaled = scaler.transform(X_train)\n",
    "trained_model.fit(X_scaled, y_train)\n",
    "pred_vals = predict(trained_model, X_test)\n",
    "y_pred= pd.Series(pred_vals,index=X_test.index)"
   ]
  },
  {
   "cell_type": "markdown",
   "id": "3ae3a17e",
   "metadata": {},
   "source": [
    "Let's check our work!  \n",
    "\n",
    "We are going to evaluate the model using f1 score"
   ]
  },
  {
   "cell_type": "code",
   "execution_count": 8,
   "id": "8d4c57a9",
   "metadata": {},
   "outputs": [
    {
     "name": "stdout",
     "output_type": "stream",
     "text": [
      "f1 score: 0.7532550156832574\n"
     ]
    }
   ],
   "source": [
    "evaluate_results = evaluate_performance(y_test, y_pred)\n",
    "print(\"f1 score:\", evaluate_results)"
   ]
  },
  {
   "cell_type": "markdown",
   "id": "21bacb65",
   "metadata": {},
   "source": [
    "Thats a nice score, but i think i can improve that :)  \n",
    "Lest try to improve by adding new features."
   ]
  },
  {
   "cell_type": "code",
   "execution_count": 9,
   "id": "98ae54ca",
   "metadata": {},
   "outputs": [],
   "source": [
    "# number of days in week doctors work\n",
    "\n",
    "workDaysInWeek = X[[\"receptionOnSunday\", \"receptionOnMonday\", \"receptionOnTuesday\", \"receptionOnWednesday\", \"receptionOnThursday\", \"receptionOnFriday\", \"receptionOnSaturday\"]].copy()\n",
    "X[\"workDaysInWeek\"] = workDaysInWeek.astype(bool).sum(axis=1)\n",
    "\n",
    "# More then 15 years after graduation\n",
    "\n",
    "yrsAfterGraduation15 = (X.graduationYear < 2007)\n",
    "X[\"yrsAfterGraduation15\"] = yrsAfterGraduation15.astype(int)\n",
    "\n",
    "#Clinic located at top 5 biggest cities\n",
    "\n",
    "primeCities = X[\"clinicCity\"].value_counts().nlargest(n=5).tolist()\n",
    "primeLocation = ((X.clinicCity ==  primeCities[0]) | (X.clinicCity ==  primeCities[1]) | (X.clinicCity == primeCities[2]) | (X.clinicCity == primeCities[3]) | (X.clinicCity == primeCities[4]))\n",
    "X[\"primeLocation\"] = primeLocation.astype(int)"
   ]
  },
  {
   "cell_type": "markdown",
   "id": "edc314c5",
   "metadata": {},
   "source": [
    "Let's check if our score improved:"
   ]
  },
  {
   "cell_type": "code",
   "execution_count": 10,
   "id": "b8505be7",
   "metadata": {},
   "outputs": [
    {
     "name": "stdout",
     "output_type": "stream",
     "text": [
      "f1 score: 0.9305567441639329\n"
     ]
    }
   ],
   "source": [
    "X_train, X_test, y_train, y_test = split_to_train_and_test(X, y, 0.20, 42)\n",
    "trained_model = train_model(X_train, y_train)\n",
    "scaler = preprocessing.StandardScaler().fit(X_train)\n",
    "X_scaled = scaler.transform(X_train)\n",
    "trained_model.fit(X_scaled, y_train)\n",
    "pred_vals = predict(trained_model, X_test)\n",
    "y_pred= pd.Series(pred_vals,index=X_test.index)\n",
    "evaluate_results = evaluate_performance(y_test, y_pred)\n",
    "print(\"f1 score:\", evaluate_results)"
   ]
  },
  {
   "cell_type": "markdown",
   "id": "28746b40",
   "metadata": {},
   "source": [
    "# 6. Report & Conclusions"
   ]
  },
  {
   "cell_type": "markdown",
   "id": "7165fbe4",
   "metadata": {},
   "source": [
    "In conclusion,  \n",
    "After obtaining the data, performing optimization and analyzing in an advanced manner,  \n",
    "we ran the logistic regression algorithm to answer the research question.  \n",
    "Our algorithm knows to predict whether an appointment with a particular doctor  \n",
    "will force the patient to wait a long or short time based on the various features.\n",
    "\n",
    "We can deduce from the improvement of the algorithm features such as:  \n",
    "**The doctor's experience**, the **number of working days a week**  \n",
    "and a **central location** have a very strong effect on the waiting time for the doctor.  \n",
    "And compromising on one or more of them can lead to a shorter wait.  \n",
    "\n",
    "The algorithm predicted the waiting times with an accuracy of **93%** and I am very pleased with the above result."
   ]
  }
 ],
 "metadata": {
  "interpreter": {
   "hash": "ff4f85d6e04298634172ac5d8264e7e9b556b95639fe52ebb9425c4d4cba0c9c"
  },
  "kernelspec": {
   "display_name": "Python 3 (ipykernel)",
   "language": "python",
   "name": "python3"
  },
  "language_info": {
   "codemirror_mode": {
    "name": "ipython",
    "version": 3
   },
   "file_extension": ".py",
   "mimetype": "text/x-python",
   "name": "python",
   "nbconvert_exporter": "python",
   "pygments_lexer": "ipython3",
   "version": "3.9.7"
  }
 },
 "nbformat": 4,
 "nbformat_minor": 5
}
