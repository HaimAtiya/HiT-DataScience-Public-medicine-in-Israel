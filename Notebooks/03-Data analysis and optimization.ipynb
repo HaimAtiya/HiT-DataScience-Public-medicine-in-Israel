{
 "cells": [
  {
   "cell_type": "markdown",
   "id": "972861ae",
   "metadata": {},
   "source": [
    "# 3. Data analysis and optimization"
   ]
  },
  {
   "cell_type": "markdown",
   "id": "4413aaf4",
   "metadata": {},
   "source": [
    "Now that we have the data, we need to examine it and refine the information before we can move on.  \n",
    "To do this, we will first import the required directories:"
   ]
  },
  {
   "cell_type": "code",
   "execution_count": 1,
   "id": "12e88712",
   "metadata": {},
   "outputs": [],
   "source": [
    "import pandas as pd\n",
    "import re\n",
    "import matplotlib.pyplot as plt\n",
    "from datetime import date, datetime, timedelta\n",
    "from sklearn.feature_extraction.text import CountVectorizer"
   ]
  },
  {
   "cell_type": "markdown",
   "id": "fb12d11e",
   "metadata": {},
   "source": [
    "Now lets load our data:  \n",
    "(For convenience - the database has been translated into English using Google Translate)"
   ]
  },
  {
   "cell_type": "code",
   "execution_count": 2,
   "id": "58f983bc",
   "metadata": {},
   "outputs": [],
   "source": [
    "df = pd.read_csv('data/data_after_scraping_translated.csv')"
   ]
  },
  {
   "cell_type": "markdown",
   "id": "51c7ac30",
   "metadata": {},
   "source": [
    "> # 3.1 Variable classification:"
   ]
  },
  {
   "cell_type": "markdown",
   "id": "2393b5c2",
   "metadata": {},
   "source": [
    "To begin the analysis of the information we received we will need to classify the variables.  \n",
    "Let's print all the variables in our table:"
   ]
  },
  {
   "cell_type": "code",
   "execution_count": 3,
   "id": "6f947f5d",
   "metadata": {},
   "outputs": [
    {
     "name": "stdout",
     "output_type": "stream",
     "text": [
      "['docTitle' 'docName' 'gender' 'firstSpeciality' 'secountSpeciality'\n",
      " 'numberOfSpecializations' 'clinicStreet' 'clinicCity'\n",
      " 'closestAppointment' 'dateOfScraping' 'onlineAppointmentScheduling'\n",
      " 'onlineAppointmentCanceling' 'needsReferral' 'preformUS' 'absence'\n",
      " 'acceptingNewPatients' 'videoCall' 'licenseNum' 'languages' 'visitCost'\n",
      " 'accessible' 'receptionOnSunday' 'receptionOnMonday' 'receptionOnTuesday'\n",
      " 'receptionOnWednesday' 'receptionOnThursday' 'receptionOnFriday'\n",
      " 'receptionOnSaturday' 'graduationYear' 'academicInstitution' 'profession'\n",
      " 'specialization' 'specializationMedicalInstitution' 'specializationYear']\n"
     ]
    }
   ],
   "source": [
    "print(df.columns.values)"
   ]
  },
  {
   "cell_type": "markdown",
   "id": "83184dce",
   "metadata": {},
   "source": [
    "Let's understand what each variable contains:"
   ]
  },
  {
   "cell_type": "markdown",
   "id": "2404caa7",
   "metadata": {},
   "source": [
    "**docTitle** - Represents the doctor's degree (Dr/Prof).  \n",
    "**docName** - Represents the doctor's name.  \n",
    "**gender** - Represents the doctor's gender (M/F).  \n",
    "**firstSpeciality** - Represents the doctor's main speciality.  \n",
    "**secountSpeciality** - Represents the doctor's secoundary spaciality (if there is one).  \n",
    "**numberOfSpecializations** - Represents the doctor's number of specializations.  \n",
    "**clinicStreet** - Represents the clinic street.  \n",
    "**clinicCity** - Represents the clinic city.  \n",
    "**closestAppointment** - Represents the closest appoitment available.  \n",
    "**dateOfScraping** - Represents the date of accuracy of information.  \n",
    "**onlineAppointmentScheduling** - Represents the ability to schedule an appointment online (True/False).  \n",
    "**onlineAppointmentCanceling**  - Represents the ability to cancel an appointment online (True/False).  \n",
    "**needsReferral** - Represents the need of referral in order to schedule an appointment (True/False).  \n",
    "**preformUS** - Represents the ability of the doctor to perform an ultrasound during the session (True/False).  \n",
    "**absence** - Represents the fact that the doctor is absent from work (True/False).  \n",
    "**acceptingNewPatients** - Represents the fact that the doctor is accepting new patients (True/False).  \n",
    "**videoCall** - Represents the ability to schedule a video-chat appointment (True/False).  \n",
    "**licenseNum** - Represents the doctor license number.  \n",
    "**languages** - Represents the languages in which the doctor provides a medical service.  \n",
    "**visitCost** - Represents the cost of the visit (in ILS).  \n",
    "**accessible** - Represents the fact that the clinic is accessible to people with disabilities (True/False).  \n",
    "**receptionOnSunday** - Represents the reception time on sunday (DateTime).  \n",
    "**receptionOnMonday** - Represents the reception time on monday (DateTime).  \n",
    "**receptionOnTuesday** - Represents the reception time on tuesday (DateTime).  \n",
    "**receptionOnWednesday** - Represents the reception time on wednesday (DateTime).  \n",
    "**receptionOnThursday** - Represents the reception time on thursday (DateTime).  \n",
    "**receptionOnFriday** - Represents the reception time on friday (DateTime).  \n",
    "**receptionOnSaturday** - Represents the reception time on saturday (DateTime).  \n",
    "**graduationYear** - Represents the doctor graduation year from academic studies (yyyy).  \n",
    "**academicInstitution** - Represents the doctor academic institution.  \n",
    "**profession** - Represents the doctor profession.  \n",
    "**specialization** - Represents the doctor specialization.  \n",
    "**specializationMedicalInstitution** - Represents the doctor specialization medical institution.  \n",
    "**specializationYear** - Represents the doctor graduation year from the specialization (yyyy)."
   ]
  },
  {
   "cell_type": "markdown",
   "id": "cb106a8c",
   "metadata": {},
   "source": [
    "Great, Let's classify our variables:"
   ]
  },
  {
   "cell_type": "markdown",
   "id": "1b6c0f60",
   "metadata": {},
   "source": [
    "| **Discrete Numerical**  | **Continuous Numerical** | **Ordinal Categorical** | **Nominal Categorical**         | **DateTime**         | **Other**    |\n",
    "|:-----------------------:|:-------------------------:|:-----------------------:|:--------------------------------:|:--------------------:|:------------:|\n",
    "| numberOfSpecializations | visitCost                 | docTitle                | gender                           | closestAppointment   | docName      |\n",
    "|                         | graduationYear            |                         | firstSpeciality                  | dateOfScraping       | clinicStreet |\n",
    "|                         | specializationYear        |                         | secountSpeciality                | receptionOnSunday    | licenseNum   |\n",
    "|                         |                           |                         | clinicCity                       | receptionOnMonday    |              |\n",
    "|                         |                           |                         | onlineAppointmentScheduling      | receptionOnTuesday   |              |\n",
    "|                         |                           |                         | onlineAppointmentCanceling       | receptionOnWednesday |              |\n",
    "|                         |                           |                         | needsReferral                    | receptionOnThursday  |              |\n",
    "|                         |                           |                         | preformUS                        | receptionOnFriday    |              |\n",
    "|                         |                           |                         | absence                          | receptionOnSaturday  |              |\n",
    "|                         |                           |                         | acceptingNewPatients             |                      |              |\n",
    "|                         |                           |                         | videoCall                        |                      |              |\n",
    "|                         |                           |                         | languages                        |                      |              |\n",
    "|                         |                           |                         | accessible                       |                      |              |\n",
    "|                         |                           |                         | academicInstitution              |                      |              |\n",
    "|                         |                           |                         | profession                       |                      |              |\n",
    "|                         |                           |                         | specialization                   |                      |              |\n",
    "|                         |                           |                         | specializationMedicalInstitution |                      |              |\n"
   ]
  },
  {
   "cell_type": "markdown",
   "id": "0efc5b1f",
   "metadata": {},
   "source": [
    "> # 3.2 Data Correction"
   ]
  },
  {
   "cell_type": "markdown",
   "id": "df7e2656",
   "metadata": {},
   "source": [
    "Once we have categorized our variables, we will move on to correcting the information we have collected.  \n",
    "This step is necessary as it is possible that during our collection  \n",
    "information was collected incorrectly or in a way that could not be worked with.  \n",
    "To do this we will use the df.info command and check what needs to be fixed."
   ]
  },
  {
   "cell_type": "code",
   "execution_count": 4,
   "id": "2c7dc431",
   "metadata": {},
   "outputs": [
    {
     "name": "stdout",
     "output_type": "stream",
     "text": [
      "<class 'pandas.core.frame.DataFrame'>\n",
      "RangeIndex: 10061 entries, 0 to 10060\n",
      "Data columns (total 34 columns):\n",
      " #   Column                            Non-Null Count  Dtype  \n",
      "---  ------                            --------------  -----  \n",
      " 0   docTitle                          10061 non-null  object \n",
      " 1   docName                           10061 non-null  object \n",
      " 2   gender                            10061 non-null  object \n",
      " 3   firstSpeciality                   10061 non-null  object \n",
      " 4   secountSpeciality                 1069 non-null   object \n",
      " 5   numberOfSpecializations           10061 non-null  int64  \n",
      " 6   clinicStreet                      9907 non-null   object \n",
      " 7   clinicCity                        10061 non-null  object \n",
      " 8   closestAppointment                7156 non-null   object \n",
      " 9   dateOfScraping                    10061 non-null  object \n",
      " 10  onlineAppointmentScheduling       10061 non-null  int64  \n",
      " 11  onlineAppointmentCanceling        10061 non-null  int64  \n",
      " 12  needsReferral                     10061 non-null  int64  \n",
      " 13  preformUS                         10061 non-null  int64  \n",
      " 14  absence                           10061 non-null  int64  \n",
      " 15  acceptingNewPatients              10061 non-null  int64  \n",
      " 16  videoCall                         10061 non-null  int64  \n",
      " 17  licenseNum                        10011 non-null  object \n",
      " 18  languages                         8373 non-null   object \n",
      " 19  visitCost                         9975 non-null   object \n",
      " 20  accessible                        8335 non-null   object \n",
      " 21  receptionOnSunday                 4294 non-null   object \n",
      " 22  receptionOnMonday                 4254 non-null   object \n",
      " 23  receptionOnTuesday                4096 non-null   object \n",
      " 24  receptionOnWednesday              4125 non-null   object \n",
      " 25  receptionOnThursday               3970 non-null   object \n",
      " 26  receptionOnFriday                 1764 non-null   object \n",
      " 27  receptionOnSaturday               251 non-null    object \n",
      " 28  graduationYear                    9817 non-null   float64\n",
      " 29  academicInstitution               9090 non-null   object \n",
      " 30  profession                        9817 non-null   object \n",
      " 31  specialization                    8171 non-null   object \n",
      " 32  specializationMedicalInstitution  5480 non-null   object \n",
      " 33  specializationYear                8171 non-null   float64\n",
      "dtypes: float64(2), int64(8), object(24)\n",
      "memory usage: 2.6+ MB\n"
     ]
    }
   ],
   "source": [
    "df.info()"
   ]
  },
  {
   "cell_type": "markdown",
   "id": "358c0eb3",
   "metadata": {},
   "source": [
    "Let's start by removing duplicate entris."
   ]
  },
  {
   "cell_type": "code",
   "execution_count": 5,
   "id": "1fdc56b7",
   "metadata": {},
   "outputs": [
    {
     "name": "stdout",
     "output_type": "stream",
     "text": [
      "We have 2083 duplicated rows\n",
      "This is a very large amount, but to get credible results we had to get rid of them\n",
      "--- Duplicates entris removed ---\n",
      "Total duplicates: 0 out of 7978 rows\n"
     ]
    }
   ],
   "source": [
    "print(\"We have\", df[df.duplicated()].shape[0], \"duplicated rows\")\n",
    "print(\"This is a very large amount, but to get credible results we had to get rid of them\")\n",
    "df.drop_duplicates(inplace=True, keep='first')\n",
    "print(\"--- Duplicates entris removed ---\")\n",
    "print (\"Total duplicates:\", df[df.duplicated()].shape[0],\"out of\", df.shape[0], \"rows\")"
   ]
  },
  {
   "cell_type": "markdown",
   "id": "36f075eb",
   "metadata": {},
   "source": [
    "Now, lets deal with **closestAppointment**.\n",
    "  \n",
    "Since we want to predict Waiting times for appointments we need to dump all the null values."
   ]
  },
  {
   "cell_type": "code",
   "execution_count": 6,
   "id": "87608782",
   "metadata": {},
   "outputs": [],
   "source": [
    "df.dropna(subset=[\"closestAppointment\"], inplace=True)"
   ]
  },
  {
   "cell_type": "markdown",
   "id": "a44c54c3",
   "metadata": {},
   "source": [
    "The value foramt is: [dd/mm/yy dayInWeek].  \n",
    "Let's separate them into two columns."
   ]
  },
  {
   "cell_type": "code",
   "execution_count": 7,
   "id": "58e2eea0",
   "metadata": {},
   "outputs": [],
   "source": [
    "# create another column for the dayInWeek\n",
    "dayInWeek = df[\"closestAppointment\"]\n",
    "df.insert(9, 'closestAppointmentDayInWeek', dayInWeek)\n",
    "\n",
    "# set the weekday inside closestAppointmentDayInWeek\n",
    "df[\"closestAppointmentDayInWeek\"] = df['closestAppointment'].apply(lambda x: re.search(r\"(\\w+)\\s([0-9]+\\/[0-9]+\\/[0-9]+)\", str(x)).group(1))\n",
    "\n",
    "\n",
    "# use the regex in order to get a clean date\n",
    "df['closestAppointment'] = df['closestAppointment'].apply(lambda x: re.search(r\"(\\w+)\\s([0-9]+\\/[0-9]+\\/[0-9]+)\", str(x)).group(2))"
   ]
  },
  {
   "cell_type": "markdown",
   "id": "9b6246b2",
   "metadata": {},
   "source": [
    "We would also like to know the number of days to the appointment."
   ]
  },
  {
   "cell_type": "code",
   "execution_count": 8,
   "id": "c17bc9d9",
   "metadata": {},
   "outputs": [],
   "source": [
    "# convert to datetime\n",
    "df = df.astype({\"closestAppointment\": \"datetime64\", \"dateOfScraping\": \"datetime64\"})\n",
    "\n",
    "# create another column for the daysToAppointment\n",
    "daysToAppointment = df[\"closestAppointment\"]\n",
    "df.insert(9, 'daysToAppointment', daysToAppointment)\n",
    "\n",
    "# calculate the number of days to the appoitment\n",
    "df[\"daysToAppointment\"] = df[\"closestAppointment\"] - df[\"dateOfScraping\"]\n",
    "df[\"daysToAppointment\"] = df['daysToAppointment'].apply(lambda x: x.days)\n",
    "\n",
    "# drop the unnecessary columns\n",
    "df = df.drop(columns=['closestAppointment', 'dateOfScraping'])"
   ]
  },
  {
   "cell_type": "markdown",
   "id": "b27e9b33",
   "metadata": {},
   "source": [
    "Now let's deal with the docTitle field, as described earlier this represents the doctor's degree (Dr/Prof)."
   ]
  },
  {
   "cell_type": "code",
   "execution_count": 9,
   "id": "ffeac975",
   "metadata": {},
   "outputs": [
    {
     "name": "stdout",
     "output_type": "stream",
     "text": [
      "['Dr.' 'Prof.' 'Clinic']\n"
     ]
    }
   ],
   "source": [
    "print(df[\"docTitle\"].unique())"
   ]
  },
  {
   "cell_type": "markdown",
   "id": "c807fe97",
   "metadata": {},
   "source": [
    "It can be seen that during the data collection, unwanted data was also collected,  \n",
    "so we will delete the bad data."
   ]
  },
  {
   "cell_type": "code",
   "execution_count": 10,
   "id": "0356afdc",
   "metadata": {},
   "outputs": [],
   "source": [
    "conditions = df[(df[\"docTitle\"] == 'Clinic')]\n",
    "df = df.drop(conditions.index)"
   ]
  },
  {
   "cell_type": "markdown",
   "id": "3f1144b6",
   "metadata": {},
   "source": [
    "Let's check:"
   ]
  },
  {
   "cell_type": "code",
   "execution_count": 11,
   "id": "ae44e077",
   "metadata": {},
   "outputs": [
    {
     "name": "stdout",
     "output_type": "stream",
     "text": [
      "['Dr.' 'Prof.']\n"
     ]
    }
   ],
   "source": [
    "print(df[\"docTitle\"].unique())"
   ]
  },
  {
   "cell_type": "markdown",
   "id": "ec0cfcac",
   "metadata": {},
   "source": [
    "Awsome."
   ]
  },
  {
   "cell_type": "markdown",
   "id": "09954a1d",
   "metadata": {},
   "source": [
    "Now lets deal with the **visitCost** fiels.  \n",
    "The rates of public medicine in Israel are set by the Israeli Ministry of Health.  \n",
    "The rates for a single visit are:  "
   ]
  },
  {
   "cell_type": "markdown",
   "id": "9aca1f6b",
   "metadata": {},
   "source": [
    "| **Treatment type** | **Price per visit** |\n",
    "|:---|:---|\n",
    "| Family doctor, pediatrician, gynecologist, internal medicine doctor | 0 NIS |\n",
    "| Secondary doctor, dietitian, diabetes institute | 30 NIS |\n",
    "| Professional institutes (except diabetes), physiotherapy institutes, outpatient clinics | 36 NIS |  "
   ]
  },
  {
   "cell_type": "code",
   "execution_count": 12,
   "id": "e7b3ad97",
   "metadata": {},
   "outputs": [],
   "source": [
    "# CONVERT TO NUMRIC\n",
    "\n",
    "df.loc[df[\"visitCost\"] == \"Without deductible\", \"visitCost\"] = 0\n",
    "df.loc[df[\"visitCost\"] == \"Quarterly deductible\", \"visitCost\"] = 30\n",
    "\n",
    "## We havn't scraped any treatments that cost 36 NIS.\n",
    "\n",
    "## We can drop the NaN values (aprox. 50 rows)\n",
    "df.dropna(subset =[\"visitCost\"], inplace=True)\n",
    "\n",
    "#To finish, were gonna cast the field to int\n",
    "df = df.astype({\"visitCost\": \"int64\"})"
   ]
  },
  {
   "cell_type": "markdown",
   "id": "57190b75",
   "metadata": {},
   "source": [
    "Now lets deal with the **accessible** field treatment.  \n",
    "We have 3 option: Yes, need to confirm, and None.  \n",
    "Were gonna translate this to english and fill all the None with No."
   ]
  },
  {
   "cell_type": "code",
   "execution_count": 13,
   "id": "cfe5b1bf",
   "metadata": {},
   "outputs": [],
   "source": [
    "df.loc[df['accessible'] == 'Mobility accessibility', 'accessible'] = \"Yes\"\n",
    "df.loc[df['accessible'] == 'Please inquire by phone', 'accessible'] = \"Maybe\"\n",
    "df = df.fillna({\"accessible\" : \"No\"})"
   ]
  },
  {
   "cell_type": "markdown",
   "id": "5e26082a",
   "metadata": {},
   "source": [
    "Now lets deal with the **graduationYear** & **specializationYear** field treatments.  \n",
    "We have some grabage data such as (year > 2022) that were going to fill with the median.  \n",
    "About the blanks, were gonna fill them with the median."
   ]
  },
  {
   "cell_type": "code",
   "execution_count": 14,
   "id": "a6580f9e",
   "metadata": {},
   "outputs": [],
   "source": [
    "mean = df[(df[\"graduationYear\"] <= 2022) & (df[\"specializationYear\"] <= 2022)].median(numeric_only=True)\n",
    "df.loc[df[\"graduationYear\"] > 2022, 'graduationYear'] = mean.graduationYear\n",
    "df.loc[df[\"specializationYear\"] > 2022, 'specializationYear'] = mean.specializationYear\n",
    "df = df.fillna({\"graduationYear\": mean.graduationYear, \"specializationYear\": mean.specializationYear})\n",
    "\n",
    "#To finish, were gonna cast the field to int\n",
    "df = df.astype({\"graduationYear\": \"int64\", \"specializationYear\": \"int64\"})"
   ]
  },
  {
   "cell_type": "markdown",
   "id": "a5f58f88",
   "metadata": {},
   "source": [
    "Let's look on the languages field:"
   ]
  },
  {
   "cell_type": "code",
   "execution_count": 15,
   "id": "8ffb4b1c",
   "metadata": {},
   "outputs": [
    {
     "data": {
      "text/plain": [
       "0          Hebrew English Arabic\n",
       "256        Hebrew English Arabic\n",
       "257       Hebrew Russian English\n",
       "258     Hebrew, English, Russian\n",
       "259               Hebrew English\n",
       "                  ...           \n",
       "9777    Hebrew, English, Russian\n",
       "9778              Hebrew English\n",
       "9779      Hebrew Russian English\n",
       "9780              Hebrew English\n",
       "9781              Hebrew English\n",
       "Name: languages, Length: 5731, dtype: object"
      ]
     },
     "execution_count": 15,
     "metadata": {},
     "output_type": "execute_result"
    }
   ],
   "source": [
    "df.languages"
   ]
  },
  {
   "cell_type": "markdown",
   "id": "7180af7f",
   "metadata": {},
   "source": [
    "We can see we have a lot of data in one row,  \n",
    "Lets split that using countVectoraizer."
   ]
  },
  {
   "cell_type": "code",
   "execution_count": 16,
   "id": "76ebfd48",
   "metadata": {},
   "outputs": [],
   "source": [
    "# fill the blanks with hebrew\n",
    "df = df.fillna({\"languages\": \"Hebrew\"})\n",
    "\n",
    "# create language dataframe\n",
    "langs = df.languages\n",
    "Vect = CountVectorizer()\n",
    "X = Vect.fit_transform(langs)\n",
    "langDf = pd.DataFrame(X.toarray(), columns=Vect.get_feature_names(), index=df.index.values.tolist())\n",
    "langDf[\"numOfLangs\"] = langDf.sum(axis=1)\n",
    "\n",
    "# concat to the original dataframe\n",
    "df = pd.concat([df, langDf], axis=1)\n",
    "\n",
    "# drop the unnecessary column\n",
    "df = df.drop(columns=['languages'])"
   ]
  },
  {
   "cell_type": "markdown",
   "id": "6d8020a0",
   "metadata": {},
   "source": [
    "Now, we would like to know the total working hours per week, and the hours category (morning, noon, etc)"
   ]
  },
  {
   "cell_type": "markdown",
   "id": "acbcae80",
   "metadata": {},
   "source": [
    "Were gonna write some function that going to help us:"
   ]
  },
  {
   "cell_type": "code",
   "execution_count": 17,
   "id": "c28c1684",
   "metadata": {},
   "outputs": [],
   "source": [
    "def parseWorkingHours(str):\n",
    "    if(str != None):\n",
    "        regex = r'([0-9]+.+[0-9]+)\\s?( to |-)([0-9][0-9]:\\s?[0-9]+)\\s(.+)'\n",
    "        res = re.findall(regex, str)[0]\n",
    "        start = res[0].replace(\" \", \"\").split(\":\")\n",
    "        end = res[2].replace(\" \", \"\").split(\":\")\n",
    "        frequency = res[3].lower()\n",
    "        return start, end, frequency\n",
    "    return None, None, None\n",
    "\n",
    "def devideBy(str):\n",
    "    if(str == \"weekly\"):\n",
    "        return 1\n",
    "    if(str == \"once every two weeks\"):\n",
    "        return 2\n",
    "    if(str == \"3 times a month\"):\n",
    "        return 3\n",
    "    if(str == \"once every 4 weeks\"):\n",
    "        return 4\n",
    "    return 1\n",
    "\n",
    "def calculateWorkingHoursPerDay(str):\n",
    "    if(str == None or str == \"\" or str == \"No\"):\n",
    "        return 0\n",
    "    start, end, frequency = parseWorkingHours(str)                                    \n",
    "    # if started befor midnight and finish after midnight\n",
    "    if(int(start[0]) < 24 and (int(end[0]) < int(start[0]))):\n",
    "        end[0] = int(end[0]) + 24      \n",
    "    hours_per_day = ((int(end[0])+int(end[1])/60) - (int(start[0])+int(start[1])/60)) / devideBy(str) \n",
    "    return hours_per_day"
   ]
  },
  {
   "cell_type": "code",
   "execution_count": 18,
   "id": "fc1e9934",
   "metadata": {},
   "outputs": [],
   "source": [
    "# fill the blanks\n",
    "df = df.fillna({\n",
    "    \"receptionOnSunday\" : \"No\",\n",
    "    \"receptionOnMonday\" : \"No\",\n",
    "    \"receptionOnTuesday\" : \"No\",\n",
    "    \"receptionOnWednesday\" : \"No\",\n",
    "    \"receptionOnThursday\" : \"No\",\n",
    "    \"receptionOnFriday\" : \"No\",\n",
    "    \"receptionOnFriday\" : \"No\",\n",
    "    \"receptionOnSaturday\": \"No\"\n",
    "               })"
   ]
  },
  {
   "cell_type": "code",
   "execution_count": 19,
   "id": "05d191c4",
   "metadata": {},
   "outputs": [],
   "source": [
    "colList = [\"receptionOnSunday\", \"receptionOnMonday\",\"receptionOnTuesday\",\"receptionOnWednesday\",\"receptionOnThursday\",\"receptionOnFriday\",\"receptionOnFriday\", \"receptionOnSaturday\"]\n",
    "df[\"receptionOnSunday\"] = df[\"receptionOnSunday\"].apply(lambda x: calculateWorkingHoursPerDay(x))\n",
    "df[\"receptionOnMonday\"] = df[\"receptionOnMonday\"].apply(lambda x: calculateWorkingHoursPerDay(x))\n",
    "df[\"receptionOnTuesday\"] = df[\"receptionOnTuesday\"].apply(lambda x: calculateWorkingHoursPerDay(x))\n",
    "df[\"receptionOnWednesday\"] = df[\"receptionOnWednesday\"].apply(lambda x: calculateWorkingHoursPerDay(x))\n",
    "df[\"receptionOnThursday\"] = df[\"receptionOnThursday\"].apply(lambda x: calculateWorkingHoursPerDay(x))\n",
    "df[\"receptionOnFriday\"] = df[\"receptionOnFriday\"].apply(lambda x: calculateWorkingHoursPerDay(x))\n",
    "df[\"receptionOnSaturday\"] = df[\"receptionOnSaturday\"].apply(lambda x: calculateWorkingHoursPerDay(x))\n",
    "df[\"totalPerWeek\"] = df[colList].sum(axis=1)"
   ]
  },
  {
   "cell_type": "markdown",
   "id": "c4f94671",
   "metadata": {},
   "source": [
    "Now, there are some values we can fill with default values, such as:    \n",
    "**secountSpeciality** - Not all doctors has more then one speciality, so lets fill all this cells with \"No\".  \n",
    "**clinicStreet** - There are some clinics located in small towns without street names, so wer'e gonna fill that with the same value as the clinicCity field.\n",
    "**languages** - It can be safely assumed that doctors that the languages field is empty speak Hebrew and therefore we will fill them in this entry.  \n",
    "**licenseNum** - Since this a unique field were just gonna fill it with zeros.  \n",
    "**receptionOn[DAY]** - Fill the blanks with No.  \n",
    "**academicInstitution** - Fill the blanks with Unknown.  \n",
    "**profession** - Fill the blanks with \"Medicine\"  \n",
    "**specialization** fill the blanks with the same value as firstSpeciality.  \n",
    "**specializationMedicalInstitution** - Fill the blanks with Unknown.  "
   ]
  },
  {
   "cell_type": "code",
   "execution_count": 20,
   "id": "d1c6f374",
   "metadata": {},
   "outputs": [],
   "source": [
    "df = df.fillna({\n",
    "    ## secountSpeciality ##\n",
    "    \"secountSpeciality\" : \"No\",\n",
    "    ## clinicStreet ##\n",
    "    \"clinicStreet\" : df[\"clinicCity\"],\n",
    "    ## languages ##\n",
    "    \"languages\": \"Hebrew\",\n",
    "    ## licenseNum ##\n",
    "    \"licenseNum\" : \"000000\",\n",
    "    ## academicInstitution ##\n",
    "    \"academicInstitution\": \"Unknown\",\n",
    "    ## profession ##\n",
    "    \"profession\": \"Medicine\",\n",
    "    ## specialization ##\n",
    "    \"specialization\" : df[\"firstSpeciality\"],\n",
    "    ## specializationMedicalInstitution ##\n",
    "    \"specializationMedicalInstitution\": \"Unknown\"\n",
    "               }) \n"
   ]
  },
  {
   "cell_type": "markdown",
   "id": "ae123b6b",
   "metadata": {},
   "source": [
    "Now lets correct all the Dtypes:"
   ]
  },
  {
   "cell_type": "code",
   "execution_count": 21,
   "id": "9cbb1fb2",
   "metadata": {},
   "outputs": [],
   "source": [
    "df = df.astype({\n",
    "    \"gender\": \"category\",\n",
    "    \"firstSpeciality\": \"category\",\n",
    "    \"secountSpeciality\": \"category\",\n",
    "    \"clinicStreet\": \"category\",\n",
    "    \"clinicCity\": \"category\",\n",
    "    \"closestAppointmentDayInWeek\": \"category\",\n",
    "    \"onlineAppointmentScheduling\": \"category\",\n",
    "    \"onlineAppointmentCanceling\": \"category\",\n",
    "    \"needsReferral\": \"category\",\n",
    "    \"preformUS\": \"category\",\n",
    "    \"absence\": \"category\",\n",
    "    \"acceptingNewPatients\": \"category\",\n",
    "    \"videoCall\": \"category\",\n",
    "    \"accessible\": \"category\",\n",
    "    \"gender\": \"category\",\n",
    "    \"gender\": \"category\",\n",
    "    \"gender\": \"category\"\n",
    "})"
   ]
  },
  {
   "cell_type": "markdown",
   "id": "891e33e4",
   "metadata": {},
   "source": [
    "Lets check our work:"
   ]
  },
  {
   "cell_type": "code",
   "execution_count": 22,
   "id": "d1006ae6",
   "metadata": {},
   "outputs": [
    {
     "name": "stdout",
     "output_type": "stream",
     "text": [
      "<class 'pandas.core.frame.DataFrame'>\n",
      "Int64Index: 5731 entries, 0 to 9781\n",
      "Data columns (total 56 columns):\n",
      " #   Column                            Non-Null Count  Dtype   \n",
      "---  ------                            --------------  -----   \n",
      " 0   docTitle                          5731 non-null   object  \n",
      " 1   docName                           5731 non-null   object  \n",
      " 2   gender                            5731 non-null   category\n",
      " 3   firstSpeciality                   5731 non-null   category\n",
      " 4   secountSpeciality                 5731 non-null   category\n",
      " 5   numberOfSpecializations           5731 non-null   int64   \n",
      " 6   clinicStreet                      5731 non-null   category\n",
      " 7   clinicCity                        5731 non-null   category\n",
      " 8   daysToAppointment                 5731 non-null   int64   \n",
      " 9   closestAppointmentDayInWeek       5731 non-null   category\n",
      " 10  onlineAppointmentScheduling       5731 non-null   category\n",
      " 11  onlineAppointmentCanceling        5731 non-null   category\n",
      " 12  needsReferral                     5731 non-null   category\n",
      " 13  preformUS                         5731 non-null   category\n",
      " 14  absence                           5731 non-null   category\n",
      " 15  acceptingNewPatients              5731 non-null   category\n",
      " 16  videoCall                         5731 non-null   category\n",
      " 17  licenseNum                        5731 non-null   object  \n",
      " 18  visitCost                         5731 non-null   int64   \n",
      " 19  accessible                        5731 non-null   category\n",
      " 20  receptionOnSunday                 5731 non-null   float64 \n",
      " 21  receptionOnMonday                 5731 non-null   float64 \n",
      " 22  receptionOnTuesday                5731 non-null   float64 \n",
      " 23  receptionOnWednesday              5731 non-null   float64 \n",
      " 24  receptionOnThursday               5731 non-null   float64 \n",
      " 25  receptionOnFriday                 5731 non-null   float64 \n",
      " 26  receptionOnSaturday               5731 non-null   float64 \n",
      " 27  graduationYear                    5731 non-null   int64   \n",
      " 28  academicInstitution               5731 non-null   object  \n",
      " 29  profession                        5731 non-null   object  \n",
      " 30  specialization                    5731 non-null   object  \n",
      " 31  specializationMedicalInstitution  5731 non-null   object  \n",
      " 32  specializationYear                5731 non-null   int64   \n",
      " 33  arabic                            5731 non-null   int64   \n",
      " 34  bulgarian                         5731 non-null   int64   \n",
      " 35  danish                            5731 non-null   int64   \n",
      " 36  dutch                             5731 non-null   int64   \n",
      " 37  english                           5731 non-null   int64   \n",
      " 38  french                            5731 non-null   int64   \n",
      " 39  georgian                          5731 non-null   int64   \n",
      " 40  german                            5731 non-null   int64   \n",
      " 41  hebrew                            5731 non-null   int64   \n",
      " 42  hungarian                         5731 non-null   int64   \n",
      " 43  italian                           5731 non-null   int64   \n",
      " 44  polish                            5731 non-null   int64   \n",
      " 45  portuguese                        5731 non-null   int64   \n",
      " 46  romanian                          5731 non-null   int64   \n",
      " 47  russian                           5731 non-null   int64   \n",
      " 48  spanish                           5731 non-null   int64   \n",
      " 49  swedish                           5731 non-null   int64   \n",
      " 50  turkish                           5731 non-null   int64   \n",
      " 51  ukrainian                         5731 non-null   int64   \n",
      " 52  yiddish                           5731 non-null   int64   \n",
      " 53  yugoslav                          5731 non-null   int64   \n",
      " 54  numOfLangs                        5731 non-null   int64   \n",
      " 55  totalPerWeek                      5731 non-null   float64 \n",
      "dtypes: category(14), float64(8), int64(27), object(7)\n",
      "memory usage: 2.0+ MB\n"
     ]
    }
   ],
   "source": [
    "df.info()"
   ]
  },
  {
   "cell_type": "markdown",
   "id": "351779ec",
   "metadata": {},
   "source": [
    "Great, all values are non-null"
   ]
  },
  {
   "cell_type": "markdown",
   "id": "20a8c5a8",
   "metadata": {},
   "source": [
    "> # 3.3 Outliers"
   ]
  },
  {
   "cell_type": "markdown",
   "id": "22af0c55",
   "metadata": {},
   "source": [
    "Now, lets check for outliers using the descirbe function."
   ]
  },
  {
   "cell_type": "code",
   "execution_count": 23,
   "id": "f1d23eaa",
   "metadata": {},
   "outputs": [
    {
     "data": {
      "text/html": [
       "<div>\n",
       "<style scoped>\n",
       "    .dataframe tbody tr th:only-of-type {\n",
       "        vertical-align: middle;\n",
       "    }\n",
       "\n",
       "    .dataframe tbody tr th {\n",
       "        vertical-align: top;\n",
       "    }\n",
       "\n",
       "    .dataframe thead th {\n",
       "        text-align: right;\n",
       "    }\n",
       "</style>\n",
       "<table border=\"1\" class=\"dataframe\">\n",
       "  <thead>\n",
       "    <tr style=\"text-align: right;\">\n",
       "      <th></th>\n",
       "      <th>numberOfSpecializations</th>\n",
       "      <th>daysToAppointment</th>\n",
       "      <th>visitCost</th>\n",
       "      <th>receptionOnSunday</th>\n",
       "      <th>receptionOnMonday</th>\n",
       "      <th>receptionOnTuesday</th>\n",
       "      <th>receptionOnWednesday</th>\n",
       "      <th>receptionOnThursday</th>\n",
       "      <th>receptionOnFriday</th>\n",
       "      <th>receptionOnSaturday</th>\n",
       "      <th>graduationYear</th>\n",
       "      <th>specializationYear</th>\n",
       "      <th>arabic</th>\n",
       "      <th>bulgarian</th>\n",
       "      <th>danish</th>\n",
       "      <th>dutch</th>\n",
       "      <th>english</th>\n",
       "      <th>french</th>\n",
       "      <th>georgian</th>\n",
       "      <th>german</th>\n",
       "      <th>hebrew</th>\n",
       "      <th>hungarian</th>\n",
       "      <th>italian</th>\n",
       "      <th>polish</th>\n",
       "      <th>portuguese</th>\n",
       "      <th>romanian</th>\n",
       "      <th>russian</th>\n",
       "      <th>spanish</th>\n",
       "      <th>swedish</th>\n",
       "      <th>turkish</th>\n",
       "      <th>ukrainian</th>\n",
       "      <th>yiddish</th>\n",
       "      <th>yugoslav</th>\n",
       "      <th>numOfLangs</th>\n",
       "      <th>totalPerWeek</th>\n",
       "    </tr>\n",
       "  </thead>\n",
       "  <tbody>\n",
       "    <tr>\n",
       "      <th>count</th>\n",
       "      <td>5731.000000</td>\n",
       "      <td>5731.000000</td>\n",
       "      <td>5731.000000</td>\n",
       "      <td>5731.000000</td>\n",
       "      <td>5731.000000</td>\n",
       "      <td>5731.000000</td>\n",
       "      <td>5731.000000</td>\n",
       "      <td>5731.000000</td>\n",
       "      <td>5731.000000</td>\n",
       "      <td>5731.000000</td>\n",
       "      <td>5731.000000</td>\n",
       "      <td>5731.000000</td>\n",
       "      <td>5731.000000</td>\n",
       "      <td>5731.000000</td>\n",
       "      <td>5731.000000</td>\n",
       "      <td>5731.000000</td>\n",
       "      <td>5731.000000</td>\n",
       "      <td>5731.000000</td>\n",
       "      <td>5731.000000</td>\n",
       "      <td>5731.000000</td>\n",
       "      <td>5731.000000</td>\n",
       "      <td>5731.000000</td>\n",
       "      <td>5731.000000</td>\n",
       "      <td>5731.000000</td>\n",
       "      <td>5731.000000</td>\n",
       "      <td>5731.000000</td>\n",
       "      <td>5731.000000</td>\n",
       "      <td>5731.000000</td>\n",
       "      <td>5731.000000</td>\n",
       "      <td>5731.000000</td>\n",
       "      <td>5731.000000</td>\n",
       "      <td>5731.000000</td>\n",
       "      <td>5731.000000</td>\n",
       "      <td>5731.000000</td>\n",
       "      <td>5731.000000</td>\n",
       "    </tr>\n",
       "    <tr>\n",
       "      <th>mean</th>\n",
       "      <td>1.070145</td>\n",
       "      <td>30.473565</td>\n",
       "      <td>17.237829</td>\n",
       "      <td>1.854101</td>\n",
       "      <td>1.797708</td>\n",
       "      <td>1.686198</td>\n",
       "      <td>1.663753</td>\n",
       "      <td>1.644789</td>\n",
       "      <td>0.624722</td>\n",
       "      <td>0.036221</td>\n",
       "      <td>1994.697609</td>\n",
       "      <td>2004.932298</td>\n",
       "      <td>0.143256</td>\n",
       "      <td>0.002094</td>\n",
       "      <td>0.000349</td>\n",
       "      <td>0.001919</td>\n",
       "      <td>0.789391</td>\n",
       "      <td>0.067004</td>\n",
       "      <td>0.003839</td>\n",
       "      <td>0.034723</td>\n",
       "      <td>0.998255</td>\n",
       "      <td>0.011691</td>\n",
       "      <td>0.052521</td>\n",
       "      <td>0.003839</td>\n",
       "      <td>0.001919</td>\n",
       "      <td>0.036468</td>\n",
       "      <td>0.255104</td>\n",
       "      <td>0.036643</td>\n",
       "      <td>0.000174</td>\n",
       "      <td>0.001221</td>\n",
       "      <td>0.002268</td>\n",
       "      <td>0.015006</td>\n",
       "      <td>0.000174</td>\n",
       "      <td>2.457861</td>\n",
       "      <td>9.932214</td>\n",
       "    </tr>\n",
       "    <tr>\n",
       "      <th>std</th>\n",
       "      <td>0.308631</td>\n",
       "      <td>69.334811</td>\n",
       "      <td>14.833426</td>\n",
       "      <td>2.234365</td>\n",
       "      <td>2.222645</td>\n",
       "      <td>2.159659</td>\n",
       "      <td>2.121427</td>\n",
       "      <td>2.150566</td>\n",
       "      <td>1.379026</td>\n",
       "      <td>0.374058</td>\n",
       "      <td>12.892122</td>\n",
       "      <td>9.353068</td>\n",
       "      <td>0.350364</td>\n",
       "      <td>0.045715</td>\n",
       "      <td>0.018679</td>\n",
       "      <td>0.043773</td>\n",
       "      <td>0.407777</td>\n",
       "      <td>0.250051</td>\n",
       "      <td>0.061844</td>\n",
       "      <td>0.183094</td>\n",
       "      <td>0.041739</td>\n",
       "      <td>0.107500</td>\n",
       "      <td>0.223095</td>\n",
       "      <td>0.061844</td>\n",
       "      <td>0.043773</td>\n",
       "      <td>0.187469</td>\n",
       "      <td>0.435958</td>\n",
       "      <td>0.187900</td>\n",
       "      <td>0.013209</td>\n",
       "      <td>0.034931</td>\n",
       "      <td>0.047577</td>\n",
       "      <td>0.121587</td>\n",
       "      <td>0.013209</td>\n",
       "      <td>0.936796</td>\n",
       "      <td>7.889208</td>\n",
       "    </tr>\n",
       "    <tr>\n",
       "      <th>min</th>\n",
       "      <td>1.000000</td>\n",
       "      <td>-131.000000</td>\n",
       "      <td>0.000000</td>\n",
       "      <td>0.000000</td>\n",
       "      <td>0.000000</td>\n",
       "      <td>0.000000</td>\n",
       "      <td>0.000000</td>\n",
       "      <td>0.000000</td>\n",
       "      <td>0.000000</td>\n",
       "      <td>0.000000</td>\n",
       "      <td>1947.000000</td>\n",
       "      <td>1974.000000</td>\n",
       "      <td>0.000000</td>\n",
       "      <td>0.000000</td>\n",
       "      <td>0.000000</td>\n",
       "      <td>0.000000</td>\n",
       "      <td>0.000000</td>\n",
       "      <td>0.000000</td>\n",
       "      <td>0.000000</td>\n",
       "      <td>0.000000</td>\n",
       "      <td>0.000000</td>\n",
       "      <td>0.000000</td>\n",
       "      <td>0.000000</td>\n",
       "      <td>0.000000</td>\n",
       "      <td>0.000000</td>\n",
       "      <td>0.000000</td>\n",
       "      <td>0.000000</td>\n",
       "      <td>0.000000</td>\n",
       "      <td>0.000000</td>\n",
       "      <td>0.000000</td>\n",
       "      <td>0.000000</td>\n",
       "      <td>0.000000</td>\n",
       "      <td>0.000000</td>\n",
       "      <td>1.000000</td>\n",
       "      <td>0.000000</td>\n",
       "    </tr>\n",
       "    <tr>\n",
       "      <th>25%</th>\n",
       "      <td>1.000000</td>\n",
       "      <td>2.000000</td>\n",
       "      <td>0.000000</td>\n",
       "      <td>0.000000</td>\n",
       "      <td>0.000000</td>\n",
       "      <td>0.000000</td>\n",
       "      <td>0.000000</td>\n",
       "      <td>0.000000</td>\n",
       "      <td>0.000000</td>\n",
       "      <td>0.000000</td>\n",
       "      <td>1985.000000</td>\n",
       "      <td>2000.000000</td>\n",
       "      <td>0.000000</td>\n",
       "      <td>0.000000</td>\n",
       "      <td>0.000000</td>\n",
       "      <td>0.000000</td>\n",
       "      <td>1.000000</td>\n",
       "      <td>0.000000</td>\n",
       "      <td>0.000000</td>\n",
       "      <td>0.000000</td>\n",
       "      <td>1.000000</td>\n",
       "      <td>0.000000</td>\n",
       "      <td>0.000000</td>\n",
       "      <td>0.000000</td>\n",
       "      <td>0.000000</td>\n",
       "      <td>0.000000</td>\n",
       "      <td>0.000000</td>\n",
       "      <td>0.000000</td>\n",
       "      <td>0.000000</td>\n",
       "      <td>0.000000</td>\n",
       "      <td>0.000000</td>\n",
       "      <td>0.000000</td>\n",
       "      <td>0.000000</td>\n",
       "      <td>2.000000</td>\n",
       "      <td>4.000000</td>\n",
       "    </tr>\n",
       "    <tr>\n",
       "      <th>50%</th>\n",
       "      <td>1.000000</td>\n",
       "      <td>9.000000</td>\n",
       "      <td>30.000000</td>\n",
       "      <td>0.000000</td>\n",
       "      <td>0.000000</td>\n",
       "      <td>0.000000</td>\n",
       "      <td>0.000000</td>\n",
       "      <td>0.000000</td>\n",
       "      <td>0.000000</td>\n",
       "      <td>0.000000</td>\n",
       "      <td>1993.000000</td>\n",
       "      <td>2005.000000</td>\n",
       "      <td>0.000000</td>\n",
       "      <td>0.000000</td>\n",
       "      <td>0.000000</td>\n",
       "      <td>0.000000</td>\n",
       "      <td>1.000000</td>\n",
       "      <td>0.000000</td>\n",
       "      <td>0.000000</td>\n",
       "      <td>0.000000</td>\n",
       "      <td>1.000000</td>\n",
       "      <td>0.000000</td>\n",
       "      <td>0.000000</td>\n",
       "      <td>0.000000</td>\n",
       "      <td>0.000000</td>\n",
       "      <td>0.000000</td>\n",
       "      <td>0.000000</td>\n",
       "      <td>0.000000</td>\n",
       "      <td>0.000000</td>\n",
       "      <td>0.000000</td>\n",
       "      <td>0.000000</td>\n",
       "      <td>0.000000</td>\n",
       "      <td>0.000000</td>\n",
       "      <td>3.000000</td>\n",
       "      <td>7.000000</td>\n",
       "    </tr>\n",
       "    <tr>\n",
       "      <th>75%</th>\n",
       "      <td>1.000000</td>\n",
       "      <td>50.000000</td>\n",
       "      <td>30.000000</td>\n",
       "      <td>3.833333</td>\n",
       "      <td>3.750000</td>\n",
       "      <td>3.500000</td>\n",
       "      <td>3.500000</td>\n",
       "      <td>3.500000</td>\n",
       "      <td>0.000000</td>\n",
       "      <td>0.000000</td>\n",
       "      <td>2005.000000</td>\n",
       "      <td>2012.000000</td>\n",
       "      <td>0.000000</td>\n",
       "      <td>0.000000</td>\n",
       "      <td>0.000000</td>\n",
       "      <td>0.000000</td>\n",
       "      <td>1.000000</td>\n",
       "      <td>0.000000</td>\n",
       "      <td>0.000000</td>\n",
       "      <td>0.000000</td>\n",
       "      <td>1.000000</td>\n",
       "      <td>0.000000</td>\n",
       "      <td>0.000000</td>\n",
       "      <td>0.000000</td>\n",
       "      <td>0.000000</td>\n",
       "      <td>0.000000</td>\n",
       "      <td>1.000000</td>\n",
       "      <td>0.000000</td>\n",
       "      <td>0.000000</td>\n",
       "      <td>0.000000</td>\n",
       "      <td>0.000000</td>\n",
       "      <td>0.000000</td>\n",
       "      <td>0.000000</td>\n",
       "      <td>3.000000</td>\n",
       "      <td>14.500000</td>\n",
       "    </tr>\n",
       "    <tr>\n",
       "      <th>max</th>\n",
       "      <td>6.000000</td>\n",
       "      <td>564.000000</td>\n",
       "      <td>30.000000</td>\n",
       "      <td>11.000000</td>\n",
       "      <td>11.500000</td>\n",
       "      <td>10.500000</td>\n",
       "      <td>11.000000</td>\n",
       "      <td>14.500000</td>\n",
       "      <td>7.833333</td>\n",
       "      <td>8.000000</td>\n",
       "      <td>2022.000000</td>\n",
       "      <td>2022.000000</td>\n",
       "      <td>1.000000</td>\n",
       "      <td>1.000000</td>\n",
       "      <td>1.000000</td>\n",
       "      <td>1.000000</td>\n",
       "      <td>1.000000</td>\n",
       "      <td>1.000000</td>\n",
       "      <td>1.000000</td>\n",
       "      <td>1.000000</td>\n",
       "      <td>1.000000</td>\n",
       "      <td>1.000000</td>\n",
       "      <td>1.000000</td>\n",
       "      <td>1.000000</td>\n",
       "      <td>1.000000</td>\n",
       "      <td>1.000000</td>\n",
       "      <td>1.000000</td>\n",
       "      <td>1.000000</td>\n",
       "      <td>1.000000</td>\n",
       "      <td>1.000000</td>\n",
       "      <td>1.000000</td>\n",
       "      <td>1.000000</td>\n",
       "      <td>1.000000</td>\n",
       "      <td>7.000000</td>\n",
       "      <td>58.500000</td>\n",
       "    </tr>\n",
       "  </tbody>\n",
       "</table>\n",
       "</div>"
      ],
      "text/plain": [
       "       numberOfSpecializations  daysToAppointment    visitCost  \\\n",
       "count              5731.000000        5731.000000  5731.000000   \n",
       "mean                  1.070145          30.473565    17.237829   \n",
       "std                   0.308631          69.334811    14.833426   \n",
       "min                   1.000000        -131.000000     0.000000   \n",
       "25%                   1.000000           2.000000     0.000000   \n",
       "50%                   1.000000           9.000000    30.000000   \n",
       "75%                   1.000000          50.000000    30.000000   \n",
       "max                   6.000000         564.000000    30.000000   \n",
       "\n",
       "       receptionOnSunday  receptionOnMonday  receptionOnTuesday  \\\n",
       "count        5731.000000        5731.000000         5731.000000   \n",
       "mean            1.854101           1.797708            1.686198   \n",
       "std             2.234365           2.222645            2.159659   \n",
       "min             0.000000           0.000000            0.000000   \n",
       "25%             0.000000           0.000000            0.000000   \n",
       "50%             0.000000           0.000000            0.000000   \n",
       "75%             3.833333           3.750000            3.500000   \n",
       "max            11.000000          11.500000           10.500000   \n",
       "\n",
       "       receptionOnWednesday  receptionOnThursday  receptionOnFriday  \\\n",
       "count           5731.000000          5731.000000        5731.000000   \n",
       "mean               1.663753             1.644789           0.624722   \n",
       "std                2.121427             2.150566           1.379026   \n",
       "min                0.000000             0.000000           0.000000   \n",
       "25%                0.000000             0.000000           0.000000   \n",
       "50%                0.000000             0.000000           0.000000   \n",
       "75%                3.500000             3.500000           0.000000   \n",
       "max               11.000000            14.500000           7.833333   \n",
       "\n",
       "       receptionOnSaturday  graduationYear  specializationYear       arabic  \\\n",
       "count          5731.000000     5731.000000         5731.000000  5731.000000   \n",
       "mean              0.036221     1994.697609         2004.932298     0.143256   \n",
       "std               0.374058       12.892122            9.353068     0.350364   \n",
       "min               0.000000     1947.000000         1974.000000     0.000000   \n",
       "25%               0.000000     1985.000000         2000.000000     0.000000   \n",
       "50%               0.000000     1993.000000         2005.000000     0.000000   \n",
       "75%               0.000000     2005.000000         2012.000000     0.000000   \n",
       "max               8.000000     2022.000000         2022.000000     1.000000   \n",
       "\n",
       "         bulgarian       danish        dutch      english       french  \\\n",
       "count  5731.000000  5731.000000  5731.000000  5731.000000  5731.000000   \n",
       "mean      0.002094     0.000349     0.001919     0.789391     0.067004   \n",
       "std       0.045715     0.018679     0.043773     0.407777     0.250051   \n",
       "min       0.000000     0.000000     0.000000     0.000000     0.000000   \n",
       "25%       0.000000     0.000000     0.000000     1.000000     0.000000   \n",
       "50%       0.000000     0.000000     0.000000     1.000000     0.000000   \n",
       "75%       0.000000     0.000000     0.000000     1.000000     0.000000   \n",
       "max       1.000000     1.000000     1.000000     1.000000     1.000000   \n",
       "\n",
       "          georgian       german       hebrew    hungarian      italian  \\\n",
       "count  5731.000000  5731.000000  5731.000000  5731.000000  5731.000000   \n",
       "mean      0.003839     0.034723     0.998255     0.011691     0.052521   \n",
       "std       0.061844     0.183094     0.041739     0.107500     0.223095   \n",
       "min       0.000000     0.000000     0.000000     0.000000     0.000000   \n",
       "25%       0.000000     0.000000     1.000000     0.000000     0.000000   \n",
       "50%       0.000000     0.000000     1.000000     0.000000     0.000000   \n",
       "75%       0.000000     0.000000     1.000000     0.000000     0.000000   \n",
       "max       1.000000     1.000000     1.000000     1.000000     1.000000   \n",
       "\n",
       "            polish   portuguese     romanian      russian      spanish  \\\n",
       "count  5731.000000  5731.000000  5731.000000  5731.000000  5731.000000   \n",
       "mean      0.003839     0.001919     0.036468     0.255104     0.036643   \n",
       "std       0.061844     0.043773     0.187469     0.435958     0.187900   \n",
       "min       0.000000     0.000000     0.000000     0.000000     0.000000   \n",
       "25%       0.000000     0.000000     0.000000     0.000000     0.000000   \n",
       "50%       0.000000     0.000000     0.000000     0.000000     0.000000   \n",
       "75%       0.000000     0.000000     0.000000     1.000000     0.000000   \n",
       "max       1.000000     1.000000     1.000000     1.000000     1.000000   \n",
       "\n",
       "           swedish      turkish    ukrainian      yiddish     yugoslav  \\\n",
       "count  5731.000000  5731.000000  5731.000000  5731.000000  5731.000000   \n",
       "mean      0.000174     0.001221     0.002268     0.015006     0.000174   \n",
       "std       0.013209     0.034931     0.047577     0.121587     0.013209   \n",
       "min       0.000000     0.000000     0.000000     0.000000     0.000000   \n",
       "25%       0.000000     0.000000     0.000000     0.000000     0.000000   \n",
       "50%       0.000000     0.000000     0.000000     0.000000     0.000000   \n",
       "75%       0.000000     0.000000     0.000000     0.000000     0.000000   \n",
       "max       1.000000     1.000000     1.000000     1.000000     1.000000   \n",
       "\n",
       "        numOfLangs  totalPerWeek  \n",
       "count  5731.000000   5731.000000  \n",
       "mean      2.457861      9.932214  \n",
       "std       0.936796      7.889208  \n",
       "min       1.000000      0.000000  \n",
       "25%       2.000000      4.000000  \n",
       "50%       3.000000      7.000000  \n",
       "75%       3.000000     14.500000  \n",
       "max       7.000000     58.500000  "
      ]
     },
     "execution_count": 23,
     "metadata": {},
     "output_type": "execute_result"
    }
   ],
   "source": [
    "# get all columns\n",
    "pd.set_option('display.max_columns', df.shape[0]) \n",
    "\n",
    "\n",
    "df.describe()"
   ]
  },
  {
   "cell_type": "markdown",
   "id": "e3a4abfc",
   "metadata": {},
   "source": [
    "> ##  3.3.1 Checking important columns"
   ]
  },
  {
   "cell_type": "markdown",
   "id": "b629e481",
   "metadata": {},
   "source": [
    "**numberOfSpecializations**"
   ]
  },
  {
   "cell_type": "code",
   "execution_count": 24,
   "id": "96576d93",
   "metadata": {},
   "outputs": [
    {
     "data": {
      "text/plain": [
       "Text(0, 0.5, 'Number of doctors')"
      ]
     },
     "execution_count": 24,
     "metadata": {},
     "output_type": "execute_result"
    },
    {
     "data": {
      "image/png": "[encoded data removed]",
      "text/plain": [
       "<Figure size 432x288 with 1 Axes>"
      ]
     },
     "metadata": {
      "needs_background": "light"
     },
     "output_type": "display_data"
    }
   ],
   "source": [
    "plt.hist(df.numberOfSpecializations, bins=3)\n",
    "plt.xlabel(\"Number of Specializations\")\n",
    "plt.ylabel(\"Number of doctors\")"
   ]
  },
  {
   "cell_type": "markdown",
   "id": "7bcd5e11",
   "metadata": {},
   "source": [
    "Lets remove doctors with 3 or more Number of Specializations"
   ]
  },
  {
   "cell_type": "code",
   "execution_count": 25,
   "id": "1063b90b",
   "metadata": {},
   "outputs": [],
   "source": [
    "numberOfSpecializationsOutliers = df[(df[\"numberOfSpecializations\"] >4)].index\n",
    "numberOfSpecializationsOutliers\n",
    "df.drop(numberOfSpecializationsOutliers, inplace=True)"
   ]
  },
  {
   "cell_type": "markdown",
   "id": "747ed845",
   "metadata": {},
   "source": [
    "**daysToAppointment**"
   ]
  },
  {
   "cell_type": "code",
   "execution_count": 26,
   "id": "712e2985",
   "metadata": {},
   "outputs": [
    {
     "data": {
      "text/plain": [
       "Text(0, 0.5, 'Number of Appointments')"
      ]
     },
     "execution_count": 26,
     "metadata": {},
     "output_type": "execute_result"
    },
    {
     "data": {
      "image/png": "[encoded data removed]",
      "text/plain": [
       "<Figure size 432x288 with 1 Axes>"
      ]
     },
     "metadata": {
      "needs_background": "light"
     },
     "output_type": "display_data"
    }
   ],
   "source": [
    "plt.hist(df.daysToAppointment, bins=30)\n",
    "plt.xlabel(\"Days To Appointment\")\n",
    "plt.ylabel(\"Number of Appointments\")"
   ]
  },
  {
   "cell_type": "markdown",
   "id": "738129d3",
   "metadata": {},
   "source": [
    "We can see that *daysToAppointment* contains negative results due to a bad data.\n",
    "Also There are big number of of appointments > 200 that we can consider as outliers.\n",
    "Lets remove them."
   ]
  },
  {
   "cell_type": "code",
   "execution_count": 27,
   "id": "4a4c33d1",
   "metadata": {},
   "outputs": [],
   "source": [
    "daysToAppointmentOutliers = df[(df[\"daysToAppointment\"] < 0) | (df[\"daysToAppointment\"] > 200)].index\n",
    "df.drop(daysToAppointmentOutliers, inplace=True)"
   ]
  },
  {
   "cell_type": "markdown",
   "id": "1afe1165",
   "metadata": {},
   "source": [
    "**graduationYear**"
   ]
  },
  {
   "cell_type": "code",
   "execution_count": 28,
   "id": "b3fc9903",
   "metadata": {},
   "outputs": [
    {
     "data": {
      "text/plain": [
       "Text(0, 0.5, 'Number of Doctors')"
      ]
     },
     "execution_count": 28,
     "metadata": {},
     "output_type": "execute_result"
    },
    {
     "data": {
      "image/png": "[encoded data removed]",
      "text/plain": [
       "<Figure size 432x288 with 1 Axes>"
      ]
     },
     "metadata": {
      "needs_background": "light"
     },
     "output_type": "display_data"
    }
   ],
   "source": [
    "plt.hist(df.graduationYear, bins=5)\n",
    "plt.xlabel(\"Year\")\n",
    "plt.ylabel(\"Number of Doctors\")"
   ]
  },
  {
   "cell_type": "markdown",
   "id": "e1523fe7",
   "metadata": {},
   "source": [
    "Lets remove < 1970"
   ]
  },
  {
   "cell_type": "code",
   "execution_count": 29,
   "id": "ee1633fe",
   "metadata": {},
   "outputs": [],
   "source": [
    "graduationYearOutliers = df[(df[\"graduationYear\"] < 1970)].index\n",
    "df.drop(graduationYearOutliers, inplace=True)"
   ]
  },
  {
   "cell_type": "markdown",
   "id": "b4e032d2",
   "metadata": {},
   "source": [
    "**specializationYear**"
   ]
  },
  {
   "cell_type": "code",
   "execution_count": 30,
   "id": "bd72031d",
   "metadata": {},
   "outputs": [
    {
     "data": {
      "text/plain": [
       "Text(0, 0.5, 'Number of Appointments')"
      ]
     },
     "execution_count": 30,
     "metadata": {},
     "output_type": "execute_result"
    },
    {
     "data": {
      "image/png": "[encoded data removed]",
      "text/plain": [
       "<Figure size 432x288 with 1 Axes>"
      ]
     },
     "metadata": {
      "needs_background": "light"
     },
     "output_type": "display_data"
    }
   ],
   "source": [
    "plt.hist(df.specializationYear, bins=10)\n",
    "plt.xlabel(\"Days To Appointment\")\n",
    "plt.ylabel(\"Number of Appointments\")"
   ]
  },
  {
   "cell_type": "markdown",
   "id": "3300fc13",
   "metadata": {},
   "source": [
    "Data OK, no need to make changes."
   ]
  },
  {
   "cell_type": "markdown",
   "id": "28e14a9a",
   "metadata": {},
   "source": [
    "**numOfLangs**"
   ]
  },
  {
   "cell_type": "code",
   "execution_count": 31,
   "id": "f1e5116a",
   "metadata": {},
   "outputs": [
    {
     "data": {
      "text/plain": [
       "Text(0, 0.5, 'Number of Appointments')"
      ]
     },
     "execution_count": 31,
     "metadata": {},
     "output_type": "execute_result"
    },
    {
     "data": {
      "image/png": "[encoded data removed]",
      "text/plain": [
       "<Figure size 432x288 with 1 Axes>"
      ]
     },
     "metadata": {
      "needs_background": "light"
     },
     "output_type": "display_data"
    }
   ],
   "source": [
    "plt.hist(df.numOfLangs, bins=3)\n",
    "plt.xlabel(\"Days To Appointment\")\n",
    "plt.ylabel(\"Number of Appointments\")"
   ]
  },
  {
   "cell_type": "markdown",
   "id": "f9bbbdab",
   "metadata": {},
   "source": [
    "Lets remove > 5"
   ]
  },
  {
   "cell_type": "code",
   "execution_count": 32,
   "id": "eb5eebe8",
   "metadata": {},
   "outputs": [],
   "source": [
    "numOfLangsOutliers = df[(df[\"numOfLangs\"] > 5)].index\n",
    "df.drop(numOfLangsOutliers, inplace=True)"
   ]
  },
  {
   "cell_type": "markdown",
   "id": "f4c07864",
   "metadata": {},
   "source": [
    "**totalPerWeek**"
   ]
  },
  {
   "cell_type": "code",
   "execution_count": 33,
   "id": "75771e12",
   "metadata": {},
   "outputs": [
    {
     "data": {
      "text/plain": [
       "Text(0, 0.5, 'Number of Appointments')"
      ]
     },
     "execution_count": 33,
     "metadata": {},
     "output_type": "execute_result"
    },
    {
     "data": {
      "image/png": "[encoded data removed]",
      "text/plain": [
       "<Figure size 432x288 with 1 Axes>"
      ]
     },
     "metadata": {
      "needs_background": "light"
     },
     "output_type": "display_data"
    }
   ],
   "source": [
    "plt.hist(df.totalPerWeek, bins=10)\n",
    "plt.xlabel(\"Days To Appointment\")\n",
    "plt.ylabel(\"Number of Appointments\")"
   ]
  },
  {
   "cell_type": "markdown",
   "id": "e88621fd",
   "metadata": {},
   "source": [
    "Lets remove > 35"
   ]
  },
  {
   "cell_type": "code",
   "execution_count": 34,
   "id": "6217a87c",
   "metadata": {},
   "outputs": [],
   "source": [
    "totalPerWeekOutliers = df[(df[\"totalPerWeek\"] > 35)].index\n",
    "df.drop(totalPerWeekOutliers, inplace=True)"
   ]
  },
  {
   "cell_type": "markdown",
   "id": "7b3616b0",
   "metadata": {},
   "source": [
    "Awsome!\\\n",
    "Lets save and continue to the next step."
   ]
  },
  {
   "cell_type": "code",
   "execution_count": 35,
   "id": "beac5eb2",
   "metadata": {},
   "outputs": [
    {
     "name": "stdout",
     "output_type": "stream",
     "text": [
      "Dataframe saved as CSV file.\n"
     ]
    }
   ],
   "source": [
    "df.to_csv(\"data/data_after_cleaning.csv\", index=False)\n",
    "print(\"Dataframe saved as CSV file.\")"
   ]
  }
 ],
 "metadata": {
  "kernelspec": {
   "display_name": "Python 3 (ipykernel)",
   "language": "python",
   "name": "python3"
  },
  "language_info": {
   "codemirror_mode": {
    "name": "ipython",
    "version": 3
   },
   "file_extension": ".py",
   "mimetype": "text/x-python",
   "name": "python",
   "nbconvert_exporter": "python",
   "pygments_lexer": "ipython3",
   "version": "3.9.7"
  }
 },
 "nbformat": 4,
 "nbformat_minor": 5
}
