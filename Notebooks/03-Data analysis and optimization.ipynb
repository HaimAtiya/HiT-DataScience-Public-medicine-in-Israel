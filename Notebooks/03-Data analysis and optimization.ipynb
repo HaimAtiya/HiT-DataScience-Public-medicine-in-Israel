{
 "cells": [
  {
   "cell_type": "markdown",
   "id": "972861ae",
   "metadata": {},
   "source": [
    "# 3. Data analysis and optimization"
   ]
  },
  {
   "cell_type": "markdown",
   "id": "4413aaf4",
   "metadata": {},
   "source": [
    "Now that we have the data, we need to examine it and refine the information before we can move on.\\\n",
    "To do this, we will first import the required directories:"
   ]
  },
  {
   "cell_type": "code",
   "execution_count": 1,
   "id": "12e88712",
   "metadata": {},
   "outputs": [],
   "source": [
    "import pandas as pd\n",
    "import re\n",
    "from datetime import date"
   ]
  },
  {
   "cell_type": "markdown",
   "id": "fb12d11e",
   "metadata": {},
   "source": [
    "Now lets load our data:"
   ]
  },
  {
   "cell_type": "code",
   "execution_count": 2,
   "id": "58f983bc",
   "metadata": {},
   "outputs": [],
   "source": [
    "df = pd.read_csv('data/data_after_scraping.csv')"
   ]
  },
  {
   "cell_type": "markdown",
   "id": "51c7ac30",
   "metadata": {},
   "source": [
    "> # 3.1 Variable classification:"
   ]
  },
  {
   "cell_type": "markdown",
   "id": "2393b5c2",
   "metadata": {},
   "source": [
    "To begin the analysis of the information we received we will need to classify the variables.\\\n",
    "Let's print all the variables in our table:"
   ]
  },
  {
   "cell_type": "code",
   "execution_count": 3,
   "id": "6f947f5d",
   "metadata": {},
   "outputs": [
    {
     "name": "stdout",
     "output_type": "stream",
     "text": [
      "['docTitle' 'docName' 'gender' 'firstSpeciality' 'secountSpeciality'\n",
      " 'numberOfSpecializations' 'clinicStreet' 'clinicCity'\n",
      " 'closestAppointment' 'dateOfScraping' 'onlineAppointmentScheduling'\n",
      " 'onlineAppointmentCanceling' 'needsReferral' 'preformUS' 'absence'\n",
      " 'acceptingNewPatients' 'videoCall' 'licenseNum' 'languages' 'visitCost'\n",
      " 'accessible' 'receptionOnSunday' 'receptionOnMonday' 'receptionOnTuesday'\n",
      " 'receptionOnWednesday' 'receptionOnThursday' 'receptionOnFriday'\n",
      " 'receptionOnSaturday' 'graduationYear' 'academicInstitution' 'profession'\n",
      " 'specialization' 'specializationMedicalInstitution' 'specializationYear']\n"
     ]
    }
   ],
   "source": [
    "print(df.columns.values)"
   ]
  },
  {
   "cell_type": "markdown",
   "id": "83184dce",
   "metadata": {},
   "source": [
    "Let's understand what each variable contains:"
   ]
  },
  {
   "cell_type": "markdown",
   "id": "2404caa7",
   "metadata": {},
   "source": [
    "**docTitle** - Represents the doctor's degree (Dr/Prof).\\\n",
    "**docName** - Represents the doctor's name.\\\n",
    "**gender** - Represents the doctor's gender (M/F).\\\n",
    "**firstSpeciality** - Represents the doctor's main speciality.\\\n",
    "**secountSpeciality** - Represents the doctor's secoundary spaciality (if there is one).\\\n",
    "**numberOfSpecializations** - Represents the doctor's number of specializations.\\\n",
    "**clinicStreet** - Represents the clinic street.\\\n",
    "**clinicCity** - Represents the clinic city.\\\n",
    "**closestAppointment** - Represents the closest appoitment available.\\\n",
    "**dateOfScraping** - Represents the date of accuracy of information.\\\n",
    "**onlineAppointmentScheduling** - Represents the ability to schedule an appointment online (True/False).\\\n",
    "**onlineAppointmentCanceling**  - Represents the ability to cancel an appointment online (True/False).\\\n",
    "**needsReferral** - Represents the need of referral in order to schedule an appointment (True/False).\\\n",
    "**preformUS** - Represents the ability of the doctor to perform an ultrasound during the session (True/False).\\\n",
    "**absence** - Represents the fact that the doctor is absent from work (True/False).\\\n",
    "**acceptingNewPatients** - Represents the fact that the doctor is accepting new patients (True/False).\\\n",
    "**videoCall** - Represents the ability to schedule a video-chat appointment (True/False).\\\n",
    "**licenseNum** - Represents the doctor license number.\\\n",
    "**languages** - Represents the languages in which the doctor provides a medical service.\\\n",
    "**visitCost** - Represents the cost of the visit (in ILS).\\\n",
    "**accessible** - Represents the fact that the clinic is accessible to people with disabilities (True/False).\\\n",
    "**receptionOnSunday** - Represents the reception time on sunday (DateTime).\\\n",
    "**receptionOnMonday** - Represents the reception time on monday (DateTime).\\\n",
    "**receptionOnTuesday** - Represents the reception time on tuesday (DateTime).\\\n",
    "**receptionOnWednesday** - Represents the reception time on wednesday (DateTime).\\\n",
    "**receptionOnThursday** - Represents the reception time on thursday (DateTime).\\\n",
    "**receptionOnFriday** - Represents the reception time on friday (DateTime).\\\n",
    "**receptionOnSaturday** - Represents the reception time on saturday (DateTime).\\\n",
    "**graduationYear** - Represents the doctor graduation year from academic studies (yyyy).\\\n",
    "**academicInstitution** - Represents the doctor academic institution.\\\n",
    "**profession** - Represents the doctor profession.\\\n",
    "**specialization** - Represents the doctor specialization.\\\n",
    "**specializationMedicalInstitution** - Represents the doctor specialization medical institution.\\\n",
    "**specializationYear** - Represents the doctor graduation year from the specialization (yyyy)."
   ]
  },
  {
   "cell_type": "markdown",
   "id": "cb106a8c",
   "metadata": {},
   "source": [
    "Great, Let's classify our variables:"
   ]
  },
  {
   "cell_type": "markdown",
   "id": "1b6c0f60",
   "metadata": {},
   "source": [
    "| **Discrete Numerical**  | **Continuous Numerical** | **Ordinal Categorical** | **Nominal Categorical**         | **DateTime**         | **Other**    |\n",
    "|:-----------------------:|:-------------------------:|:-----------------------:|:--------------------------------:|:--------------------:|:------------:|\n",
    "| numberOfSpecializations | visitCost                 | docTitle                | gender                           | closestAppointment   | docName      |\n",
    "|                         | graduationYear            |                         | firstSpeciality                  | dateOfScraping       | clinicStreet |\n",
    "|                         | specializationYear        |                         | secountSpeciality                | receptionOnSunday    | licenseNum   |\n",
    "|                         |                           |                         | clinicCity                       | receptionOnMonday    |              |\n",
    "|                         |                           |                         | onlineAppointmentScheduling      | receptionOnTuesday   |              |\n",
    "|                         |                           |                         | onlineAppointmentCanceling       | receptionOnWednesday |              |\n",
    "|                         |                           |                         | needsReferral                    | receptionOnThursday  |              |\n",
    "|                         |                           |                         | preformUS                        | receptionOnFriday    |              |\n",
    "|                         |                           |                         | absence                          | receptionOnSaturday  |              |\n",
    "|                         |                           |                         | acceptingNewPatients             |                      |              |\n",
    "|                         |                           |                         | videoCall                        |                      |              |\n",
    "|                         |                           |                         | languages                        |                      |              |\n",
    "|                         |                           |                         | accessible                       |                      |              |\n",
    "|                         |                           |                         | academicInstitution              |                      |              |\n",
    "|                         |                           |                         | profession                       |                      |              |\n",
    "|                         |                           |                         | specialization                   |                      |              |\n",
    "|                         |                           |                         | specializationMedicalInstitution |                      |              |\n"
   ]
  },
  {
   "cell_type": "markdown",
   "id": "0efc5b1f",
   "metadata": {},
   "source": [
    "> # 3.2 Data Correction"
   ]
  },
  {
   "cell_type": "markdown",
   "id": "df7e2656",
   "metadata": {},
   "source": [
    "Once we have categorized our variables, we will move on to correcting the information we have collected.\\\n",
    "This step is necessary as it is possible that during our collection\\\n",
    "information was collected incorrectly or in a way that could not be worked with.\\\n",
    "To do this we will use the df.info command and check what needs to be fixed."
   ]
  },
  {
   "cell_type": "code",
   "execution_count": 4,
   "id": "2c7dc431",
   "metadata": {},
   "outputs": [
    {
     "name": "stdout",
     "output_type": "stream",
     "text": [
      "<class 'pandas.core.frame.DataFrame'>\n",
      "RangeIndex: 10061 entries, 0 to 10060\n",
      "Data columns (total 34 columns):\n",
      " #   Column                            Non-Null Count  Dtype  \n",
      "---  ------                            --------------  -----  \n",
      " 0   docTitle                          10061 non-null  object \n",
      " 1   docName                           10061 non-null  object \n",
      " 2   gender                            10061 non-null  object \n",
      " 3   firstSpeciality                   10061 non-null  object \n",
      " 4   secountSpeciality                 1069 non-null   object \n",
      " 5   numberOfSpecializations           10061 non-null  int64  \n",
      " 6   clinicStreet                      9907 non-null   object \n",
      " 7   clinicCity                        10061 non-null  object \n",
      " 8   closestAppointment                7156 non-null   object \n",
      " 9   dateOfScraping                    10061 non-null  object \n",
      " 10  onlineAppointmentScheduling       10061 non-null  int64  \n",
      " 11  onlineAppointmentCanceling        10061 non-null  int64  \n",
      " 12  needsReferral                     10061 non-null  int64  \n",
      " 13  preformUS                         10061 non-null  int64  \n",
      " 14  absence                           10061 non-null  int64  \n",
      " 15  acceptingNewPatients              10061 non-null  int64  \n",
      " 16  videoCall                         10061 non-null  int64  \n",
      " 17  licenseNum                        10011 non-null  object \n",
      " 18  languages                         8373 non-null   object \n",
      " 19  visitCost                         9975 non-null   object \n",
      " 20  accessible                        8335 non-null   object \n",
      " 21  receptionOnSunday                 4294 non-null   object \n",
      " 22  receptionOnMonday                 4254 non-null   object \n",
      " 23  receptionOnTuesday                4096 non-null   object \n",
      " 24  receptionOnWednesday              4125 non-null   object \n",
      " 25  receptionOnThursday               3970 non-null   object \n",
      " 26  receptionOnFriday                 1764 non-null   object \n",
      " 27  receptionOnSaturday               251 non-null    object \n",
      " 28  graduationYear                    9817 non-null   float64\n",
      " 29  academicInstitution               9090 non-null   object \n",
      " 30  profession                        9817 non-null   object \n",
      " 31  specialization                    8171 non-null   object \n",
      " 32  specializationMedicalInstitution  5480 non-null   object \n",
      " 33  specializationYear                8171 non-null   float64\n",
      "dtypes: float64(2), int64(8), object(24)\n",
      "memory usage: 2.6+ MB\n"
     ]
    }
   ],
   "source": [
    "df.info()"
   ]
  },
  {
   "cell_type": "markdown",
   "id": "358c0eb3",
   "metadata": {},
   "source": [
    "Let's start by removing duplicate entris."
   ]
  },
  {
   "cell_type": "code",
   "execution_count": 5,
   "id": "1fdc56b7",
   "metadata": {},
   "outputs": [
    {
     "name": "stdout",
     "output_type": "stream",
     "text": [
      "We have 2083 duplicated rows\n",
      "This is a very large amount, but to get credible results we had to get rid of them\n",
      "--- Duplicates entris removed ---\n",
      "Total duplicates: 0 out of 7978 rows\n"
     ]
    }
   ],
   "source": [
    "print(\"We have\", df[df.duplicated()].shape[0], \"duplicated rows\")\n",
    "print(\"This is a very large amount, but to get credible results we had to get rid of them\")\n",
    "df.drop_duplicates(inplace=True, keep='first')\n",
    "print(\"--- Duplicates entris removed ---\")\n",
    "print (\"Total duplicates:\", df[df.duplicated()].shape[0],\"out of\", df.shape[0], \"rows\")"
   ]
  },
  {
   "cell_type": "markdown",
   "id": "36f075eb",
   "metadata": {},
   "source": [
    "Now, lets deal with **closestAppointment**.\\\n",
    "Since we want to predict Waiting times for appointments we need to dump all the null values."
   ]
  },
  {
   "cell_type": "code",
   "execution_count": 6,
   "id": "87608782",
   "metadata": {},
   "outputs": [],
   "source": [
    "df.dropna(subset=[\"closestAppointment\"], inplace=True)"
   ]
  },
  {
   "cell_type": "markdown",
   "id": "a44c54c3",
   "metadata": {},
   "source": [
    "The value foramt is: [dd/mm/yy dayInWeek].\\\n",
    "Let's separate them into two columns."
   ]
  },
  {
   "cell_type": "code",
   "execution_count": 7,
   "id": "58e2eea0",
   "metadata": {},
   "outputs": [],
   "source": [
    "# extract the date\n",
    "regex = \"יום\\s(א|ב|ג|ד|ה|ו|ש)\\'\\s([0-9]+\\/[0-9]+\\/[0-9]+)\"\n",
    "\n",
    "# create another column for the dayInWeek\n",
    "dayInWeek = df[\"closestAppointment\"]\n",
    "df.insert(9, 'closestAppointmentDayInWeek', dayInWeek)\n",
    "\n",
    "# use the regex in order to get a clean date\n",
    "df['closestAppointment'] = df['closestAppointment'].apply(lambda x: re.search(r\"יום\\s(א|ב|ג|ד|ה|ו|ש)\\'\\s([0-9]+\\/[0-9]+\\/[0-9]+)\", str(x)).group(2))\n",
    "\n",
    "# convert to datetime\n",
    "df = df.astype({\"closestAppointment\": \"datetime64\"})\n",
    "\n",
    "# set the weekday inside closestAppointmentDayInWeek\n",
    "days = [\"Monday\", \"Tuesday\", \"Wednesday\", \"Thursday\", \"Friday\", \"Saturday\", \"Sunday\"]\n",
    "df[\"closestAppointmentDayInWeek\"] = df['closestAppointment'].apply(lambda x: days[date.weekday(x)])"
   ]
  },
  {
   "cell_type": "markdown",
   "id": "b27e9b33",
   "metadata": {},
   "source": [
    "Now let's deal with the docTitle field, as described earlier this represents the doctor's degree (Dr/Prof)."
   ]
  },
  {
   "cell_type": "code",
   "execution_count": 8,
   "id": "ffeac975",
   "metadata": {},
   "outputs": [
    {
     "name": "stdout",
     "output_type": "stream",
     "text": [
      "['ד\"ר' \"פרופ'\" 'מרפאת']\n"
     ]
    }
   ],
   "source": [
    "print(df[\"docTitle\"].unique())"
   ]
  },
  {
   "cell_type": "markdown",
   "id": "c807fe97",
   "metadata": {},
   "source": [
    "It can be seen that during the data collection, unwanted data was also collected,\\\n",
    "so we will delete the bad data and translate into English what is left."
   ]
  },
  {
   "cell_type": "code",
   "execution_count": 9,
   "id": "0356afdc",
   "metadata": {},
   "outputs": [],
   "source": [
    "conditions = df[(df[\"docTitle\"] == 'רופא') | (df[\"docTitle\"] == 'מרפאה') | (df[\"docTitle\"] == 'מרפאות') | (df[\"docTitle\"] == 'מרפאת')]\n",
    "df = df.drop(conditions.index)\n",
    "df.loc[df['docTitle'] == 'ד\"ר', 'docTitle'] = \"Dr\"\n",
    "df.loc[df['docTitle']  == \"פרופ'\", 'docTitle'] = \"Prof\""
   ]
  },
  {
   "cell_type": "markdown",
   "id": "3f1144b6",
   "metadata": {},
   "source": [
    "Let's check:"
   ]
  },
  {
   "cell_type": "code",
   "execution_count": 10,
   "id": "ae44e077",
   "metadata": {},
   "outputs": [
    {
     "name": "stdout",
     "output_type": "stream",
     "text": [
      "['Dr' 'Prof']\n"
     ]
    }
   ],
   "source": [
    "print(df[\"docTitle\"].unique())"
   ]
  },
  {
   "cell_type": "markdown",
   "id": "ec0cfcac",
   "metadata": {},
   "source": [
    "Awsome."
   ]
  },
  {
   "cell_type": "markdown",
   "id": "09954a1d",
   "metadata": {},
   "source": [
    "Now lets deal with the **visitCost** fiels.  \n",
    "The rates of public medicine in Israel are set by the Israeli Ministry of Health.  \n",
    "The rates for a single visit are:  "
   ]
  },
  {
   "cell_type": "markdown",
   "id": "9aca1f6b",
   "metadata": {},
   "source": [
    "| **Treatment type** | **Price per visit** |\n",
    "|:---|:---|\n",
    "| Family doctor, pediatrician, gynecologist, internal medicine doctor | 0 NIS |\n",
    "| Secondary doctor, dietitian, diabetes institute | 30 NIS |\n",
    "| Professional institutes (except diabetes), physiotherapy institutes, outpatient clinics | 36 NIS |  "
   ]
  },
  {
   "cell_type": "code",
   "execution_count": 11,
   "id": "e7b3ad97",
   "metadata": {},
   "outputs": [],
   "source": [
    "# CONVERT TO NUMRIC\n",
    "\n",
    "df.loc[df[\"visitCost\"] == \"ללא השתתפות עצמית\", \"visitCost\"] = 0\n",
    "df.loc[df[\"visitCost\"] == \"השתתפות עצמית רבעונית\", \"visitCost\"] = 30\n",
    "\n",
    "## We havn't scraped any treatments that cost 36 NIS.\n",
    "\n",
    "## We can drop the NaN values (aprox. 50 rows)\n",
    "df.dropna(subset =[\"visitCost\"], inplace=True)\n",
    "\n",
    "#To finish, were gonna cast the field to int\n",
    "df = df.astype({\"visitCost\": \"int64\"})"
   ]
  },
  {
   "cell_type": "markdown",
   "id": "57190b75",
   "metadata": {},
   "source": [
    "Now lets deal with the **accessible** field treatment.  \n",
    "We have 3 option: Yes, need to confirm, and None.  \n",
    "Were gonna translate this to english and fill all the None with No."
   ]
  },
  {
   "cell_type": "code",
   "execution_count": 12,
   "id": "cfe5b1bf",
   "metadata": {},
   "outputs": [],
   "source": [
    "df.loc[df['accessible'] == 'הנגשה לניידות', 'accessible'] = \"Yes\"\n",
    "df.loc[df['accessible'] == 'יש לברר טלפונית', 'accessible'] = \"Maybe\"\n",
    "df = df.fillna({\"accessible\" : \"No\"})"
   ]
  },
  {
   "cell_type": "markdown",
   "id": "5e26082a",
   "metadata": {},
   "source": [
    "Now lets deal with the **graduationYear** & **specializationYear** field treatments.  \n",
    "We have some grabage data such as (year > 2022) that were going to fill with the median.  \n",
    "About the blanks, were gonna fill them with the median."
   ]
  },
  {
   "cell_type": "code",
   "execution_count": 13,
   "id": "a6580f9e",
   "metadata": {},
   "outputs": [],
   "source": [
    "mean = df[(df[\"graduationYear\"] <= 2022) & (df[\"specializationYear\"] <= 2022)].median(numeric_only=True)\n",
    "df.loc[df[\"graduationYear\"] > 2022, 'graduationYear'] = mean.graduationYear\n",
    "df.loc[df[\"specializationYear\"] > 2022, 'specializationYear'] = mean.specializationYear\n",
    "df = df.fillna({\"graduationYear\": mean.graduationYear, \"specializationYear\": mean.specializationYear})\n",
    "\n",
    "#To finish, were gonna cast the field to int\n",
    "df = df.astype({\"graduationYear\": \"int64\", \"specializationYear\": \"int64\"})"
   ]
  },
  {
   "cell_type": "markdown",
   "id": "c4f94671",
   "metadata": {},
   "source": [
    "Now, there are some values we can fill with default values, such as:    \n",
    "**secountSpeciality** - Not all doctors has more then one speciality, so lets fill all this cells with \"No\".  \n",
    "**clinicStreet** - There are some clinics located in small towns without street names, so wer'e gonna fill that with the same value as the clinicCity field.\n",
    "**languages** - It can be safely assumed that doctors that the languages field is empty speak Hebrew and therefore we will fill them in this entry.  \n",
    "**licenseNum** - Since this a unique field were just gonna fill it with zeros.  \n",
    "**receptionOn[DAY]** - Fill the blanks with No.  \n",
    "**academicInstitution** - Fill the blanks with Unknown.  \n",
    "**profession** - Fill the blanks with \"רפואה\"  \n",
    "**specialization** fill the blanks with the same value as firstSpeciality.  \n",
    "**specializationMedicalInstitution** - Fill the blanks with Unknown.  "
   ]
  },
  {
   "cell_type": "code",
   "execution_count": 14,
   "id": "d1c6f374",
   "metadata": {},
   "outputs": [],
   "source": [
    "df = df.fillna({\n",
    "    ## secountSpeciality ##\n",
    "    \"secountSpeciality\" : \"No\",\n",
    "    ## clinicStreet ##\n",
    "    \"clinicStreet\" : df[\"clinicCity\"],\n",
    "    ## languages ##\n",
    "    \"languages\": \"עברית\",\n",
    "    ## licenseNum ##\n",
    "    \"licenseNum\" : \"000000\",\n",
    "    ## receptionOn[DAY] ##\n",
    "    \"receptionOnSunday\" : \"No\",\n",
    "    \"receptionOnMonday\" : \"No\",\n",
    "    \"receptionOnTuesday\" : \"No\",\n",
    "    \"receptionOnWednesday\" : \"No\",\n",
    "    \"receptionOnThursday\" : \"No\",\n",
    "    \"receptionOnFriday\" : \"No\",\n",
    "    \"receptionOnFriday\" : \"No\",\n",
    "    \"receptionOnSaturday\": \"No\",\n",
    "    ## academicInstitution ##\n",
    "    \"academicInstitution\": \"Unknown\",\n",
    "    ## profession ##\n",
    "    \"profession\": \"רפואה\",\n",
    "    ## specialization ##\n",
    "    \"specialization\" : df[\"firstSpeciality\"],\n",
    "    ## specializationMedicalInstitution ##\n",
    "    \"specializationMedicalInstitution\": \"Unknown\"\n",
    "               }) \n"
   ]
  },
  {
   "cell_type": "markdown",
   "id": "ae123b6b",
   "metadata": {},
   "source": [
    "Now lets correct all the Dtypes:"
   ]
  },
  {
   "cell_type": "code",
   "execution_count": 15,
   "id": "9cbb1fb2",
   "metadata": {},
   "outputs": [],
   "source": [
    "df = df.astype({\n",
    "    \"onlineAppointmentScheduling\": bool, \n",
    "    \"onlineAppointmentCanceling\": bool,\n",
    "    \"needsReferral\": bool,\n",
    "    \"preformUS\": bool,\n",
    "    \"absence\": bool,\n",
    "    \"acceptingNewPatients\": bool,\n",
    "    \"videoCall\": bool,\n",
    "    \"dateOfScraping\": \"datetime64\"\n",
    "})"
   ]
  },
  {
   "cell_type": "markdown",
   "id": "891e33e4",
   "metadata": {},
   "source": [
    "Lets check our work:"
   ]
  },
  {
   "cell_type": "code",
   "execution_count": 16,
   "id": "d1006ae6",
   "metadata": {},
   "outputs": [
    {
     "data": {
      "text/html": [
       "<div>\n",
       "<style scoped>\n",
       "    .dataframe tbody tr th:only-of-type {\n",
       "        vertical-align: middle;\n",
       "    }\n",
       "\n",
       "    .dataframe tbody tr th {\n",
       "        vertical-align: top;\n",
       "    }\n",
       "\n",
       "    .dataframe thead th {\n",
       "        text-align: right;\n",
       "    }\n",
       "</style>\n",
       "<table border=\"1\" class=\"dataframe\">\n",
       "  <thead>\n",
       "    <tr style=\"text-align: right;\">\n",
       "      <th></th>\n",
       "      <th>docTitle</th>\n",
       "      <th>docName</th>\n",
       "      <th>gender</th>\n",
       "      <th>firstSpeciality</th>\n",
       "      <th>secountSpeciality</th>\n",
       "      <th>numberOfSpecializations</th>\n",
       "      <th>clinicStreet</th>\n",
       "      <th>clinicCity</th>\n",
       "      <th>closestAppointment</th>\n",
       "      <th>closestAppointmentDayInWeek</th>\n",
       "      <th>...</th>\n",
       "      <th>receptionOnWednesday</th>\n",
       "      <th>receptionOnThursday</th>\n",
       "      <th>receptionOnFriday</th>\n",
       "      <th>receptionOnSaturday</th>\n",
       "      <th>graduationYear</th>\n",
       "      <th>academicInstitution</th>\n",
       "      <th>profession</th>\n",
       "      <th>specialization</th>\n",
       "      <th>specializationMedicalInstitution</th>\n",
       "      <th>specializationYear</th>\n",
       "    </tr>\n",
       "  </thead>\n",
       "  <tbody>\n",
       "    <tr>\n",
       "      <th>count</th>\n",
       "      <td>5731</td>\n",
       "      <td>5731</td>\n",
       "      <td>5731</td>\n",
       "      <td>5731</td>\n",
       "      <td>5731</td>\n",
       "      <td>5731.000000</td>\n",
       "      <td>5731</td>\n",
       "      <td>5731</td>\n",
       "      <td>5731</td>\n",
       "      <td>5731</td>\n",
       "      <td>...</td>\n",
       "      <td>5731</td>\n",
       "      <td>5731</td>\n",
       "      <td>5731</td>\n",
       "      <td>5731</td>\n",
       "      <td>5731.000000</td>\n",
       "      <td>5731</td>\n",
       "      <td>5731</td>\n",
       "      <td>5731</td>\n",
       "      <td>5731</td>\n",
       "      <td>5731.000000</td>\n",
       "    </tr>\n",
       "    <tr>\n",
       "      <th>unique</th>\n",
       "      <td>2</td>\n",
       "      <td>3981</td>\n",
       "      <td>2</td>\n",
       "      <td>74</td>\n",
       "      <td>51</td>\n",
       "      <td>NaN</td>\n",
       "      <td>1011</td>\n",
       "      <td>174</td>\n",
       "      <td>NaN</td>\n",
       "      <td>7</td>\n",
       "      <td>...</td>\n",
       "      <td>576</td>\n",
       "      <td>575</td>\n",
       "      <td>288</td>\n",
       "      <td>47</td>\n",
       "      <td>NaN</td>\n",
       "      <td>228</td>\n",
       "      <td>31</td>\n",
       "      <td>68</td>\n",
       "      <td>79</td>\n",
       "      <td>NaN</td>\n",
       "    </tr>\n",
       "    <tr>\n",
       "      <th>top</th>\n",
       "      <td>Dr</td>\n",
       "      <td>קפלן ליאורה</td>\n",
       "      <td>M</td>\n",
       "      <td>משפחה, פנימית וכללית</td>\n",
       "      <td>No</td>\n",
       "      <td>NaN</td>\n",
       "      <td>התקוה 4</td>\n",
       "      <td>תל אביב - יפו</td>\n",
       "      <td>NaN</td>\n",
       "      <td>Tuesday</td>\n",
       "      <td>...</td>\n",
       "      <td>No</td>\n",
       "      <td>No</td>\n",
       "      <td>No</td>\n",
       "      <td>No</td>\n",
       "      <td>NaN</td>\n",
       "      <td>אוניברסיטת תל אביב</td>\n",
       "      <td>רפואה</td>\n",
       "      <td>רפואת ילדים</td>\n",
       "      <td>Unknown</td>\n",
       "      <td>NaN</td>\n",
       "    </tr>\n",
       "    <tr>\n",
       "      <th>freq</th>\n",
       "      <td>5539</td>\n",
       "      <td>13</td>\n",
       "      <td>3610</td>\n",
       "      <td>1290</td>\n",
       "      <td>5384</td>\n",
       "      <td>NaN</td>\n",
       "      <td>70</td>\n",
       "      <td>412</td>\n",
       "      <td>NaN</td>\n",
       "      <td>1459</td>\n",
       "      <td>...</td>\n",
       "      <td>3251</td>\n",
       "      <td>3313</td>\n",
       "      <td>4648</td>\n",
       "      <td>5669</td>\n",
       "      <td>NaN</td>\n",
       "      <td>761</td>\n",
       "      <td>5117</td>\n",
       "      <td>743</td>\n",
       "      <td>2703</td>\n",
       "      <td>NaN</td>\n",
       "    </tr>\n",
       "    <tr>\n",
       "      <th>mean</th>\n",
       "      <td>NaN</td>\n",
       "      <td>NaN</td>\n",
       "      <td>NaN</td>\n",
       "      <td>NaN</td>\n",
       "      <td>NaN</td>\n",
       "      <td>1.070145</td>\n",
       "      <td>NaN</td>\n",
       "      <td>NaN</td>\n",
       "      <td>2022-06-15 14:46:57.937532928</td>\n",
       "      <td>NaN</td>\n",
       "      <td>...</td>\n",
       "      <td>NaN</td>\n",
       "      <td>NaN</td>\n",
       "      <td>NaN</td>\n",
       "      <td>NaN</td>\n",
       "      <td>1994.697609</td>\n",
       "      <td>NaN</td>\n",
       "      <td>NaN</td>\n",
       "      <td>NaN</td>\n",
       "      <td>NaN</td>\n",
       "      <td>2004.932298</td>\n",
       "    </tr>\n",
       "    <tr>\n",
       "      <th>min</th>\n",
       "      <td>NaN</td>\n",
       "      <td>NaN</td>\n",
       "      <td>NaN</td>\n",
       "      <td>NaN</td>\n",
       "      <td>NaN</td>\n",
       "      <td>1.000000</td>\n",
       "      <td>NaN</td>\n",
       "      <td>NaN</td>\n",
       "      <td>2022-01-06 00:00:00</td>\n",
       "      <td>NaN</td>\n",
       "      <td>...</td>\n",
       "      <td>NaN</td>\n",
       "      <td>NaN</td>\n",
       "      <td>NaN</td>\n",
       "      <td>NaN</td>\n",
       "      <td>1947.000000</td>\n",
       "      <td>NaN</td>\n",
       "      <td>NaN</td>\n",
       "      <td>NaN</td>\n",
       "      <td>NaN</td>\n",
       "      <td>1974.000000</td>\n",
       "    </tr>\n",
       "    <tr>\n",
       "      <th>25%</th>\n",
       "      <td>NaN</td>\n",
       "      <td>NaN</td>\n",
       "      <td>NaN</td>\n",
       "      <td>NaN</td>\n",
       "      <td>NaN</td>\n",
       "      <td>1.000000</td>\n",
       "      <td>NaN</td>\n",
       "      <td>NaN</td>\n",
       "      <td>2022-05-18 00:00:00</td>\n",
       "      <td>NaN</td>\n",
       "      <td>...</td>\n",
       "      <td>NaN</td>\n",
       "      <td>NaN</td>\n",
       "      <td>NaN</td>\n",
       "      <td>NaN</td>\n",
       "      <td>1985.000000</td>\n",
       "      <td>NaN</td>\n",
       "      <td>NaN</td>\n",
       "      <td>NaN</td>\n",
       "      <td>NaN</td>\n",
       "      <td>2000.000000</td>\n",
       "    </tr>\n",
       "    <tr>\n",
       "      <th>50%</th>\n",
       "      <td>NaN</td>\n",
       "      <td>NaN</td>\n",
       "      <td>NaN</td>\n",
       "      <td>NaN</td>\n",
       "      <td>NaN</td>\n",
       "      <td>1.000000</td>\n",
       "      <td>NaN</td>\n",
       "      <td>NaN</td>\n",
       "      <td>2022-05-25 00:00:00</td>\n",
       "      <td>NaN</td>\n",
       "      <td>...</td>\n",
       "      <td>NaN</td>\n",
       "      <td>NaN</td>\n",
       "      <td>NaN</td>\n",
       "      <td>NaN</td>\n",
       "      <td>1993.000000</td>\n",
       "      <td>NaN</td>\n",
       "      <td>NaN</td>\n",
       "      <td>NaN</td>\n",
       "      <td>NaN</td>\n",
       "      <td>2005.000000</td>\n",
       "    </tr>\n",
       "    <tr>\n",
       "      <th>75%</th>\n",
       "      <td>NaN</td>\n",
       "      <td>NaN</td>\n",
       "      <td>NaN</td>\n",
       "      <td>NaN</td>\n",
       "      <td>NaN</td>\n",
       "      <td>1.000000</td>\n",
       "      <td>NaN</td>\n",
       "      <td>NaN</td>\n",
       "      <td>2022-07-06 00:00:00</td>\n",
       "      <td>NaN</td>\n",
       "      <td>...</td>\n",
       "      <td>NaN</td>\n",
       "      <td>NaN</td>\n",
       "      <td>NaN</td>\n",
       "      <td>NaN</td>\n",
       "      <td>2005.000000</td>\n",
       "      <td>NaN</td>\n",
       "      <td>NaN</td>\n",
       "      <td>NaN</td>\n",
       "      <td>NaN</td>\n",
       "      <td>2012.000000</td>\n",
       "    </tr>\n",
       "    <tr>\n",
       "      <th>max</th>\n",
       "      <td>NaN</td>\n",
       "      <td>NaN</td>\n",
       "      <td>NaN</td>\n",
       "      <td>NaN</td>\n",
       "      <td>NaN</td>\n",
       "      <td>6.000000</td>\n",
       "      <td>NaN</td>\n",
       "      <td>NaN</td>\n",
       "      <td>2023-12-01 00:00:00</td>\n",
       "      <td>NaN</td>\n",
       "      <td>...</td>\n",
       "      <td>NaN</td>\n",
       "      <td>NaN</td>\n",
       "      <td>NaN</td>\n",
       "      <td>NaN</td>\n",
       "      <td>2022.000000</td>\n",
       "      <td>NaN</td>\n",
       "      <td>NaN</td>\n",
       "      <td>NaN</td>\n",
       "      <td>NaN</td>\n",
       "      <td>2022.000000</td>\n",
       "    </tr>\n",
       "    <tr>\n",
       "      <th>std</th>\n",
       "      <td>NaN</td>\n",
       "      <td>NaN</td>\n",
       "      <td>NaN</td>\n",
       "      <td>NaN</td>\n",
       "      <td>NaN</td>\n",
       "      <td>0.308631</td>\n",
       "      <td>NaN</td>\n",
       "      <td>NaN</td>\n",
       "      <td>NaN</td>\n",
       "      <td>NaN</td>\n",
       "      <td>...</td>\n",
       "      <td>NaN</td>\n",
       "      <td>NaN</td>\n",
       "      <td>NaN</td>\n",
       "      <td>NaN</td>\n",
       "      <td>12.892122</td>\n",
       "      <td>NaN</td>\n",
       "      <td>NaN</td>\n",
       "      <td>NaN</td>\n",
       "      <td>NaN</td>\n",
       "      <td>9.353068</td>\n",
       "    </tr>\n",
       "  </tbody>\n",
       "</table>\n",
       "<p>11 rows × 35 columns</p>\n",
       "</div>"
      ],
      "text/plain": [
       "       docTitle      docName gender       firstSpeciality secountSpeciality  \\\n",
       "count      5731         5731   5731                  5731              5731   \n",
       "unique        2         3981      2                    74                51   \n",
       "top          Dr  קפלן ליאורה      M  משפחה, פנימית וכללית                No   \n",
       "freq       5539           13   3610                  1290              5384   \n",
       "mean        NaN          NaN    NaN                   NaN               NaN   \n",
       "min         NaN          NaN    NaN                   NaN               NaN   \n",
       "25%         NaN          NaN    NaN                   NaN               NaN   \n",
       "50%         NaN          NaN    NaN                   NaN               NaN   \n",
       "75%         NaN          NaN    NaN                   NaN               NaN   \n",
       "max         NaN          NaN    NaN                   NaN               NaN   \n",
       "std         NaN          NaN    NaN                   NaN               NaN   \n",
       "\n",
       "        numberOfSpecializations clinicStreet     clinicCity  \\\n",
       "count               5731.000000         5731           5731   \n",
       "unique                      NaN         1011            174   \n",
       "top                         NaN      התקוה 4  תל אביב - יפו   \n",
       "freq                        NaN           70            412   \n",
       "mean                   1.070145          NaN            NaN   \n",
       "min                    1.000000          NaN            NaN   \n",
       "25%                    1.000000          NaN            NaN   \n",
       "50%                    1.000000          NaN            NaN   \n",
       "75%                    1.000000          NaN            NaN   \n",
       "max                    6.000000          NaN            NaN   \n",
       "std                    0.308631          NaN            NaN   \n",
       "\n",
       "                   closestAppointment closestAppointmentDayInWeek  ...  \\\n",
       "count                            5731                        5731  ...   \n",
       "unique                            NaN                           7  ...   \n",
       "top                               NaN                     Tuesday  ...   \n",
       "freq                              NaN                        1459  ...   \n",
       "mean    2022-06-15 14:46:57.937532928                         NaN  ...   \n",
       "min               2022-01-06 00:00:00                         NaN  ...   \n",
       "25%               2022-05-18 00:00:00                         NaN  ...   \n",
       "50%               2022-05-25 00:00:00                         NaN  ...   \n",
       "75%               2022-07-06 00:00:00                         NaN  ...   \n",
       "max               2023-12-01 00:00:00                         NaN  ...   \n",
       "std                               NaN                         NaN  ...   \n",
       "\n",
       "       receptionOnWednesday receptionOnThursday receptionOnFriday  \\\n",
       "count                  5731                5731              5731   \n",
       "unique                  576                 575               288   \n",
       "top                      No                  No                No   \n",
       "freq                   3251                3313              4648   \n",
       "mean                    NaN                 NaN               NaN   \n",
       "min                     NaN                 NaN               NaN   \n",
       "25%                     NaN                 NaN               NaN   \n",
       "50%                     NaN                 NaN               NaN   \n",
       "75%                     NaN                 NaN               NaN   \n",
       "max                     NaN                 NaN               NaN   \n",
       "std                     NaN                 NaN               NaN   \n",
       "\n",
       "       receptionOnSaturday graduationYear academicInstitution profession  \\\n",
       "count                 5731    5731.000000                5731       5731   \n",
       "unique                  47            NaN                 228         31   \n",
       "top                     No            NaN  אוניברסיטת תל אביב      רפואה   \n",
       "freq                  5669            NaN                 761       5117   \n",
       "mean                   NaN    1994.697609                 NaN        NaN   \n",
       "min                    NaN    1947.000000                 NaN        NaN   \n",
       "25%                    NaN    1985.000000                 NaN        NaN   \n",
       "50%                    NaN    1993.000000                 NaN        NaN   \n",
       "75%                    NaN    2005.000000                 NaN        NaN   \n",
       "max                    NaN    2022.000000                 NaN        NaN   \n",
       "std                    NaN      12.892122                 NaN        NaN   \n",
       "\n",
       "       specialization specializationMedicalInstitution specializationYear  \n",
       "count            5731                             5731        5731.000000  \n",
       "unique             68                               79                NaN  \n",
       "top       רפואת ילדים                          Unknown                NaN  \n",
       "freq              743                             2703                NaN  \n",
       "mean              NaN                              NaN        2004.932298  \n",
       "min               NaN                              NaN        1974.000000  \n",
       "25%               NaN                              NaN        2000.000000  \n",
       "50%               NaN                              NaN        2005.000000  \n",
       "75%               NaN                              NaN        2012.000000  \n",
       "max               NaN                              NaN        2022.000000  \n",
       "std               NaN                              NaN           9.353068  \n",
       "\n",
       "[11 rows x 35 columns]"
      ]
     },
     "execution_count": 16,
     "metadata": {},
     "output_type": "execute_result"
    }
   ],
   "source": [
    "df.describe(include=\"all\", datetime_is_numeric=True)"
   ]
  },
  {
   "cell_type": "markdown",
   "id": "7b3616b0",
   "metadata": {},
   "source": [
    "Awsome!\\\n",
    "Lets save and continue to the next step."
   ]
  },
  {
   "cell_type": "code",
   "execution_count": 17,
   "id": "beac5eb2",
   "metadata": {},
   "outputs": [
    {
     "name": "stdout",
     "output_type": "stream",
     "text": [
      "Dataframe saved as CSV file.\n"
     ]
    }
   ],
   "source": [
    "df.to_csv(\"data/data_after_cleaning.csv\", encoding='utf-8-sig')\n",
    "print(\"Dataframe saved as CSV file.\")"
   ]
  },
  {
   "cell_type": "code",
   "execution_count": null,
   "id": "a3d532f2",
   "metadata": {},
   "outputs": [],
   "source": []
  }
 ],
 "metadata": {
  "kernelspec": {
   "display_name": "Python 3 (ipykernel)",
   "language": "python",
   "name": "python3"
  },
  "language_info": {
   "codemirror_mode": {
    "name": "ipython",
    "version": 3
   },
   "file_extension": ".py",
   "mimetype": "text/x-python",
   "name": "python",
   "nbconvert_exporter": "python",
   "pygments_lexer": "ipython3",
   "version": "3.9.7"
  }
 },
 "nbformat": 4,
 "nbformat_minor": 5
}
