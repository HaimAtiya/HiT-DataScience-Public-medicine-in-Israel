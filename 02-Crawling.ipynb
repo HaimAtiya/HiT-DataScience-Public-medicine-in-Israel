{
 "cells": [
  {
   "cell_type": "markdown",
   "id": "00c4a779",
   "metadata": {},
   "source": [
    "# 2. Crawling"
   ]
  },
  {
   "cell_type": "markdown",
   "id": "702c8cb9",
   "metadata": {},
   "source": [
    "Let's import the required libraries:"
   ]
  },
  {
   "cell_type": "code",
   "execution_count": 1549,
   "id": "46cdf0e8",
   "metadata": {},
   "outputs": [],
   "source": [
    "import pandas as pd\n",
    "import json\n",
    "import re\n",
    "from selenium import webdriver\n",
    "from selenium.webdriver.common.keys import Keys\n",
    "from selenium.webdriver.support.ui import WebDriverWait\n",
    "from selenium.webdriver.support import expected_conditions as EC\n",
    "from selenium.webdriver.firefox.service import Service\n",
    "from selenium.webdriver.common.by import By\n",
    "from selenium.common.exceptions import StaleElementReferenceException\n",
    "from webdriver_manager.firefox import GeckoDriverManager\n",
    "from selenium.webdriver.firefox.options import Options\n",
    "\n",
    "from datetime import datetime\n",
    "import time"
   ]
  },
  {
   "cell_type": "markdown",
   "id": "171f145e",
   "metadata": {},
   "source": [
    "Let's also write some selenuim important functions:"
   ]
  },
  {
   "cell_type": "markdown",
   "id": "d6954457",
   "metadata": {},
   "source": [
    ">## 2.1 Global variables for selenuim:"
   ]
  },
  {
   "cell_type": "code",
   "execution_count": 1575,
   "id": "ef625889",
   "metadata": {},
   "outputs": [],
   "source": [
    "driver = \"\"\n",
    "original_tab = \"\"\n",
    "secound_tab = \"\"\n",
    "already_opend = False\n",
    "options = Options()\n",
    "options.headless = True"
   ]
  },
  {
   "cell_type": "markdown",
   "id": "81bc0a53",
   "metadata": {},
   "source": [
    ">## 2.2 Selenuim functions:"
   ]
  },
  {
   "cell_type": "markdown",
   "id": "076787c2",
   "metadata": {},
   "source": [
    "#### 1. openBroswerWindow(URL):\n",
    "The function opens headless Firefox windows according the URL it received.\n",
    "#### 2. openNewTabAndSwitch():\n",
    "The function opens headless tab and switch the driver control to the new tab.\n",
    "#### 3. switchBetween2Tabs():\n",
    "The function switch the driver control between 2 tabs.\n",
    "#### 4. closeDriverAndBroswer():\n",
    "The function close the headless broswer and the driver."
   ]
  },
  {
   "cell_type": "code",
   "execution_count": 1581,
   "id": "61a3e800",
   "metadata": {},
   "outputs": [],
   "source": [
    "def openBroswerWindow(URL):\n",
    "    global driver, original_tab, secound_tab, already_opend, options\n",
    "    if(already_opend == False):\n",
    "        \n",
    "        driver = webdriver.Firefox(options=options, service=Service(GeckoDriverManager().install()))\n",
    "        #driver = webdriver.Chrome(executable_path=ChromeDriverManager().install())\n",
    "        already_opend = True\n",
    "    driver.get(URL)\n",
    "    original_tab = driver.current_window_handle\n",
    "\n",
    "def openNewTabAndSwitch():\n",
    "    global driver, secound_tab\n",
    "    driver.switch_to.new_window('tab')\n",
    "    secound_tab = driver.current_window_handle\n",
    "\n",
    "def switchBetween2Tabs():\n",
    "    global driver, original_tab, secound_tab\n",
    "    current_tab = driver.current_window_handle;\n",
    "    if(original_tab == current_tab):\n",
    "        driver.switch_to.window(secound_tab)\n",
    "    else:\n",
    "        driver.switch_to.window(original_tab)\n",
    "        \n",
    "def closeDriverAndBroswer():\n",
    "    global driver\n",
    "    driver.quit()"
   ]
  },
  {
   "cell_type": "markdown",
   "id": "dbec4b95",
   "metadata": {},
   "source": [
    "Now that there are functions that help control selenium, we can get started.\\\n",
    "I am going to bring all the available appointments of the Maccabi HMO.\\\n",
    "First, let's access Maccabi's website using openBroswerWindow() function:"
   ]
  },
  {
   "cell_type": "markdown",
   "id": "ec27a51d",
   "metadata": {},
   "source": [
    ">## 2.3 Fetching pre-crawling important information"
   ]
  },
  {
   "cell_type": "markdown",
   "id": "c562844a",
   "metadata": {},
   "source": [
    "Before I start crawling,I will need important information that will make the job easier for me.\\\n",
    "Using the web inspector in the browser,\\\n",
    "I researched Maccabi's website, the appointment system and learned how it works,\\\n",
    "Now I will use the functions i wrote above to simulate a patient \\\n",
    "looking for an appointment for doctors in various fields.\n",
    "#### The process will be as follows:\n",
    "==> For each of the areas of treatment:\\\n",
    "====> The crawler will enter the search page and enter a treatment area and click the search button.\\\n",
    "====> For each resulting page:\\\n",
    "======> For each of the queues on the page:\\\n",
    "========> The crawler will retrieve the relevant information for the queued queue."
   ]
  },
  {
   "cell_type": "markdown",
   "id": "7cca1e49",
   "metadata": {},
   "source": [
    "In order to carry out the proposed solution,\\\n",
    "we will need to find all the areas of care that Maccabi offers to its insured.\\\n",
    "Let's go to the \"Services Guide\" and see what can be obtained from there."
   ]
  },
  {
   "cell_type": "code",
   "execution_count": 1577,
   "id": "ad160d8a",
   "metadata": {},
   "outputs": [
    {
     "name": "stderr",
     "output_type": "stream",
     "text": [
      "\n",
      "\n",
      "====== WebDriver manager ======\n",
      "Current firefox version is 88.0\n",
      "Get LATEST geckodriver version for 88.0 firefox\n",
      "Driver [C:\\Users\\Haim Atiya\\.wdm\\drivers\\geckodriver\\win64\\v0.31.0\\geckodriver.exe] found in cache\n"
     ]
    }
   ],
   "source": [
    "url = 'https://serguide.maccabi4u.co.il/heb/doctors/'\n",
    "openBroswerWindow(url)\n"
   ]
  },
  {
   "cell_type": "markdown",
   "id": "77125b6f",
   "metadata": {},
   "source": [
    "After quick exploration of the html, i found the data i was looking for in a JSON format inside 'script' tag inside 'window.\\__INITIAL_STATE\\__'."
   ]
  },
  {
   "cell_type": "code",
   "execution_count": 1501,
   "id": "8977c044",
   "metadata": {},
   "outputs": [],
   "source": [
    "rawData = driver.execute_script(\"\"\"return window.__INITIAL_STATE__\"\"\")"
   ]
  },
  {
   "cell_type": "markdown",
   "id": "4109f0a7",
   "metadata": {},
   "source": [
    "This data is going to help us later while we scraping Maccabi's website for available appoitments.\\\n",
    "Lets save it for now."
   ]
  },
  {
   "cell_type": "code",
   "execution_count": 1502,
   "id": "25503a13",
   "metadata": {},
   "outputs": [],
   "source": [
    "fieldsOfTreatment = rawData[\"settings\"][\"doctors\"][\"Data\"][\"Fields\"]\n",
    "fieldsOfTreatment = pd.json_normalize(fieldsOfTreatment)"
   ]
  },
  {
   "cell_type": "markdown",
   "id": "4b02f5b5",
   "metadata": {},
   "source": [
    "Now, lets check our data:"
   ]
  },
  {
   "cell_type": "code",
   "execution_count": 1503,
   "id": "1059f1f4",
   "metadata": {},
   "outputs": [
    {
     "name": "stdout",
     "output_type": "stream",
     "text": [
      "<class 'pandas.core.frame.DataFrame'>\n",
      "RangeIndex: 102 entries, 0 to 101\n",
      "Data columns (total 2 columns):\n",
      " #   Column  Non-Null Count  Dtype \n",
      "---  ------  --------------  ----- \n",
      " 0   K       102 non-null    object\n",
      " 1   V       102 non-null    object\n",
      "dtypes: object(2)\n",
      "memory usage: 1.7+ KB\n",
      "None\n"
     ]
    }
   ],
   "source": [
    "print(fieldsOfTreatment.info())"
   ]
  },
  {
   "cell_type": "markdown",
   "id": "c8552e3f",
   "metadata": {},
   "source": [
    "Cool, we have 102 treatment fields to scan!\\\n",
    "Now that we have the preliminary information we were looking for,\\\n",
    "We will write functions that will help us keep the code clean and readable."
   ]
  },
  {
   "cell_type": "markdown",
   "id": "e3338f37",
   "metadata": {},
   "source": [
    ">## 2.4 Crawling functions:"
   ]
  },
  {
   "cell_type": "markdown",
   "id": "80c6f47f",
   "metadata": {},
   "source": [
    "Based on the information I have gathered about how the appointment system works and the HTML structure,\\\n",
    "I will record actions that will help me crawl."
   ]
  },
  {
   "cell_type": "markdown",
   "id": "cee328b5",
   "metadata": {},
   "source": [
    ">> ## 2.4.1 Main serach results page functions:"
   ]
  },
  {
   "cell_type": "markdown",
   "id": "4561e101",
   "metadata": {},
   "source": [
    "#### getElement(row, by, value, func= None, funcValue = None, elements = False):\n",
    "The function returns selenuim web object using find_element functions.\\\n",
    "This function is required because there are some objects that dosn't appear in diffrent web pages,\\\n",
    "and using the selenuim dedicated function to get a missing object will results in assertion error.\n",
    "#### numOfDoctors(docNumStr):\n",
    "The function extract the number of doctors that came up in the serach results using regex.\n",
    "#### extractGender(imageUrl):\n",
    "The function extract the gender of the doctor using comparsion between constant avatar images.\n",
    "#### getAddress(addressStr):\n",
    "The function extract the clinic address and returns the city and the street name and number.\n",
    "City and street name and number obtained by using regex.\n",
    "#### getSpeciality(docField, numOfTitle, getNumOfSpeciality = False):\n",
    "The function the doctor's speciality.\n",
    "#### extractFromArray(arr, index):\n",
    "The function extract object from array.\\\n",
    "This function is reqiured to avoid out of bounds situations."
   ]
  },
  {
   "cell_type": "code",
   "execution_count": 1504,
   "id": "294c9144",
   "metadata": {},
   "outputs": [],
   "source": [
    "def getElement(row, by, value, func= None, funcValue = None, elements = False):\n",
    "    if(len(row.find_elements(by, value)) > 0):\n",
    "        if(func == \"get_attribute\"):\n",
    "            return row.find_element(by, value).get_attribute(funcValue)\n",
    "        if(func == \"text\"):\n",
    "            return row.find_element(by, value).text\n",
    "        if(func == \"object\"):\n",
    "            if(elements):\n",
    "                return row.find_elements(by, value)\n",
    "            return row.find_element(by, value)\n",
    "    return None\n",
    "\n",
    "def numOfDoctors(docNumStr):\n",
    "    numOfDoctors = 0\n",
    "    regex = re.findall(\"[0-9]+\", docNumStr)\n",
    "    numOfDoctors = extractFromArray(regex, 0)\n",
    "    if(numOfDoctors == None):\n",
    "        numOfDoctors = 0\n",
    "    return numOfDoctors\n",
    "\n",
    "def extractGender(imageUrl):\n",
    "    MALE = 'https://serguide.maccabi4u.co.il/media/09480721fdf8469ca6d6cc51b5bbe29b.svg?v=bd81a3f8-1d30-46a1-98c1-fb26a842c397'\n",
    "    FEMALE = 'https://serguide.maccabi4u.co.il/media/a0c04626f2734055aa80ea34b632fb40.svg?v=bd81a3f8-1d30-46a1-98c1-fb26a842c397'\n",
    "    if(imageUrl == MALE):\n",
    "        return \"M\"\n",
    "    if(imageUrl == FEMALE):\n",
    "        return \"F\"\n",
    "    return None\n",
    "\n",
    "def getAddress(addressStr):\n",
    "    clinicStreet = addressStr\n",
    "    clinicCity = None\n",
    "    if(clinicStreet != None):\n",
    "        split = re.split(\", \", clinicStreet)\n",
    "        if(len(split) == 2):\n",
    "            clinicStreet = split[0]\n",
    "            clinicCity = split[1]\n",
    "    return clinicStreet, clinicCity\n",
    "    \n",
    "def getSpeciality(docField, numOfTitle, getNumOfSpeciality = False):\n",
    "    arr = docField.split('\\n')\n",
    "    if(getNumOfSpeciality):\n",
    "        return len(arr)\n",
    "    if(numOfTitle == 1):\n",
    "        if(len(arr) == 1):\n",
    "            return docField\n",
    "        return arr[0]\n",
    "    if(numOfTitle > 1):\n",
    "        if(len(arr) > 1):\n",
    "            return arr[numOfTitle -1]\n",
    "        return None\n",
    "    return None\n",
    "\n",
    "def extractFromArray(arr, index):\n",
    "    if(len(arr) == 0):\n",
    "        return None\n",
    "    return arr[index]\n"
   ]
  },
  {
   "cell_type": "markdown",
   "id": "255bceac",
   "metadata": {},
   "source": [
    ">> ## 2.4.2 Doctor details page functions:"
   ]
  },
  {
   "cell_type": "markdown",
   "id": "afc2388c",
   "metadata": {},
   "source": [
    "#### scrapeDocDetails(url):\n",
    "The main scrape doctor details page funtion.\\\n",
    "This function used to scarpe each doctor's page individualy.\n",
    "#### getDocProperties(text):\n",
    "The function extract boolean value of the following properties:\\\n",
    "needsReferral, performUS, absence, acceptingNewPatients, videoCall.\n",
    "#### extractActivityTime(timeObjects):\n",
    "The function extract a weekly calander that includes the doctor's activity time.\n",
    "#### getDoctorNameAndTitle(docNameString):\n",
    "The function extract the doctor's name and title using regex.\n",
    "#### getDocDegreeDetails(degreeButtonObject):\n",
    "Details of the doctor's degree studies and details of the internship he / she performed."
   ]
  },
  {
   "cell_type": "code",
   "execution_count": 1540,
   "id": "19ea53f6",
   "metadata": {},
   "outputs": [],
   "source": [
    "def scrapeDocDetails(url):\n",
    "        switchBetween2Tabs()#switch to 2nd tab\n",
    "        driver.get(url)\n",
    "        WebDriverWait(driver, 10).until(EC.presence_of_element_located((By.CSS_SELECTOR, \".docPropTitle\")))\n",
    "        licenseNum = getElement(driver, By.CSS_SELECTOR, 'div.docPropSubTitle:nth-child(2)', \"text\")     \n",
    "        if(licenseNum != None):\n",
    "            licenseNum =  extractFromArray(re.findall(\"([0-9]\\-[0-9]+)$\", licenseNum), 0)\n",
    "        languages = getElement(driver, By.CSS_SELECTOR, '.docPropInnerBorder > div:nth-child(3) > ul:nth-child(2)', \"text\")        \n",
    "        visitCost = getElement(driver, By.CSS_SELECTOR, '.ConsultCosts > div:nth-child(2)', \"text\")        \n",
    "        accessible = getElement(driver, By.CSS_SELECTOR, 'li.disNoneMobile > img:nth-child(1)', \"get_attribute\", \"alt\")\n",
    "        sun, mon, tue, wed, thu, fri, sat = extractActivityTime(getElement(driver, By.TAG_NAME, 'time', \"object\", elements=True))\n",
    "        graduationYear, academicInstitution, profession, specialization, specializationMedicalInstitution, specializationYear = getDocDegreeDetails(getElement(driver, By.CSS_SELECTOR, '.listBlockMobile > li:nth-child(1) > a:nth-child(1)', \"object\"))\n",
    "        switchBetween2Tabs()#switch to main tab\n",
    "        return licenseNum, languages, visitCost, accessible, sun, mon, tue, wed, thu, fri, sat, graduationYear, academicInstitution, profession, specialization, specializationMedicalInstitution, specializationYear\n",
    "\n",
    "def getDocProperties(text):\n",
    "    needsReferral = False\n",
    "    performUS = False\n",
    "    absence = False\n",
    "    acceptingNewPatients = True\n",
    "    videoCall = False\n",
    "    for prop in text:\n",
    "        if(prop.text == \"בהפניית רופא מטפל\"):\n",
    "            needsReferral = True\n",
    "        if(prop.text == \"מבצע אולטרסאונד\"):\n",
    "            performUS = True\n",
    "        if(prop.text == \"היעדרות\"):\n",
    "            absence = True\n",
    "        if(prop.text == \"אין קבלת חברים חדשים\"):\n",
    "            acceptingNewPatients = False\n",
    "        if(prop.text == \"אפשרות לשיחת וידאו\"):\n",
    "            videoCall = True            \n",
    "    return needsReferral, performUS, absence, acceptingNewPatients, videoCall\n",
    "\n",
    "\n",
    "def extractActivityTime(timeObjects):\n",
    "    sun = mon = tue = wed = thu = fri = sat = None\n",
    "    if(timeObjects != None and len(timeObjects) > 0):\n",
    "        for day in timeObjects:\n",
    "            timeToAdd = day.get_attribute(\"datetime\") +\" \"+ getElement(day, By.CSS_SELECTOR, \"div:nth-child(1) > div:nth-child(4)\", \"text\")\n",
    "            if(timeToAdd.find(\"Su\") >= 0):\n",
    "                sun = timeToAdd\n",
    "                continue\n",
    "            if(timeToAdd.find(\"Mo\") >= 0):\n",
    "                mon = timeToAdd\n",
    "                continue\n",
    "            if(timeToAdd.find(\"Tu\") >= 0):\n",
    "                tue = timeToAdd\n",
    "                continue\n",
    "            if(timeToAdd.find(\"We\") >= 0):\n",
    "                wed = timeToAdd\n",
    "                continue\n",
    "            if(timeToAdd.find(\"Th\") >= 0):\n",
    "                thu = timeToAdd\n",
    "                continue\n",
    "            if(timeToAdd.find(\"Fr\") >= 0):\n",
    "                fri = timeToAdd\n",
    "                continue\n",
    "            if(timeToAdd.find(\"Sa\") >= 0):\n",
    "                sat = timeToAdd\n",
    "    return sun, mon, tue, wed, thu, fri, sat\n",
    "\n",
    "def getDoctorNameAndTitle(docNameString):\n",
    "        docName = docNameString\n",
    "        docTitle = None\n",
    "        if(docName != None):\n",
    "            split = re.split('''^([\\א-\\ת\\\"\\']+)\\s''', docName)\n",
    "            if(len(split) == 3):\n",
    "                docTitle = split[1]\n",
    "                docName = split[2]\n",
    "        return docTitle, docName\n",
    "    \n",
    "def getDocDegreeDetails(degreeButtonObject):\n",
    "    graduationYear = None\n",
    "    academicInstitution = None\n",
    "    profession = None\n",
    "    specialization = None\n",
    "    specializationMedicalInstitution = None\n",
    "    specializationYear = None\n",
    "    if(degreeButtonObject != None and getElement(degreeButtonObject, By.CLASS_NAME, \"sectionDocTxt\", \"text\") == \"פרטי השכלה ומומחיות\"):\n",
    "        degreeButtonObject.click()\n",
    "        rows = getElement(driver, By.CLASS_NAME, \"popUpTableRow\", \"object\", elements=True)\n",
    "        if(rows != None):\n",
    "            graduationYear = getElement(rows[1], By.CSS_SELECTOR, \"div:nth-child(2) > div:nth-child(3) > div:nth-child(2)\", \"text\")\n",
    "            academicInstitution = getElement(rows[1], By.CSS_SELECTOR, \"div:nth-child(2) > div.popUpTableColWrap.disNoneMobile > div:nth-child(2)\", \"text\")\n",
    "            profession = getElement(rows[1], By.CSS_SELECTOR, \"div:nth-child(2) > div:nth-child(1) > div:nth-child(2)\", \"text\")\n",
    "            if(len(rows) > 2):\n",
    "                specialization = getElement(rows[2], By.CSS_SELECTOR, \"div:nth-child(2) > div:nth-child(1) > div:nth-child(2)\", \"text\")\n",
    "                specializationMedicalInstitution = getElement(rows[2], By.CSS_SELECTOR, \"div:nth-child(2) > div:nth-child(2) > div:nth-child(2)\", \"text\")\n",
    "                specializationYear = getElement(rows[2], By.CSS_SELECTOR, \"div:nth-child(2) > div:nth-child(3) > div:nth-child(2)\", \"text\")\n",
    "    return graduationYear, academicInstitution, profession, specialization, specializationMedicalInstitution, specializationYear"
   ]
  },
  {
   "cell_type": "markdown",
   "id": "c712010a",
   "metadata": {},
   "source": [
    ">> ## 2.4.3 Results page scrape function"
   ]
  },
  {
   "cell_type": "markdown",
   "id": "655f3207",
   "metadata": {},
   "source": [
    "#### scrapePage(results):\n",
    "This function gets 1 pages as selenuim object and scrape each appoitment on this page.\\\n",
    "Each page contains up to 10 appoitments.\\\n",
    "The function returns a temporary dataframe that includes all the appoitments details on the given page."
   ]
  },
  {
   "cell_type": "code",
   "execution_count": 1511,
   "id": "bfd3421e",
   "metadata": {},
   "outputs": [],
   "source": [
    "def scrapePage(results):\n",
    "    dfToReturn = pd.DataFrame()\n",
    "    for row in results:\n",
    "        doc_url = getElement(row, By.CSS_SELECTOR, \".docResualtTitleList a\", \"get_attribute\", \"href\")\n",
    "        licenseNum, languages, visitCost, accessible, sun, mon, tue, wed, thu, fri, sat, graduationYear, academicInstitution, profession, specialization, specializationMedicalInstitution, specializationYear = scrapeDocDetails(doc_url)\n",
    "        needsReferral, performUS, absence, acceptingNewPatients, videoCall = getDocProperties(getElement(row, By.CLASS_NAME, \"t_G_1\", \"object\", elements=True))\n",
    "        docNameString = getElement(row, By.CLASS_NAME, \"docPropTitle\", \"text\")\n",
    "        clinicStreet, clinicCity = getAddress(getElement(row, By.CSS_SELECTOR, \".docPropInnerWrap:nth-child(3) .t_G_1\", \"text\"))\n",
    "        docTitle, docName = getDoctorNameAndTitle(docNameString)\n",
    "        rowObg= {\n",
    "            \"docTitle\": docTitle,\n",
    "            \"docName\": docName,\n",
    "            \"gender\": extractGender(getElement(row, By.CLASS_NAME, \"iconForUser\", \"get_attribute\", \"src\")),\n",
    "            \"firstSpeciality\": getSpeciality(getElement(row, By.CLASS_NAME, \"docPropSubTitle\", \"text\"), 1),\n",
    "            \"secountSpeciality\": getSpeciality(getElement(row, By.CLASS_NAME, \"docPropSubTitle\", \"text\"), 2),\n",
    "            \"numberOfSpecializations\": getSpeciality(getElement(row, By.CLASS_NAME, \"docPropSubTitle\", \"text\"), 0, True),\n",
    "            \"clinicStreet\": clinicStreet,\n",
    "            \"clinicCity\": clinicCity,\n",
    "            \"closestAppointment\": getElement(row, By.CLASS_NAME, \"closestAppointMentText\", \"text\"),\n",
    "            \"dateOfScraping\": datetime.today().strftime('%d/%m/%y'),\n",
    "            \"onlineAppointmentScheduling\": (getElement(row, By.CLASS_NAME, \"newShowSearch\", \"text\") == \"זימון תור\"),\n",
    "            \"onlineAppointmentCanceling\": (getElement(row, By.CLASS_NAME, \"clearSearchFields\", \"text\") == \"ביטול תור\"),\n",
    "            \"needsReferral\": needsReferral,\n",
    "            \"preformUS\": performUS,\n",
    "            \"absence\": absence,\n",
    "            \"acceptingNewPatients\": acceptingNewPatients,\n",
    "            \"videoCall\": videoCall,\n",
    "            \"licenseNum\": licenseNum, \n",
    "            \"languages\": languages, \n",
    "            \"visitCost\": visitCost, \n",
    "            \"accessible\": accessible, \n",
    "            \"receptionOnSunday\": sun, \n",
    "            \"receptionOnMonday\": mon, \n",
    "            \"receptionOnTuesday\": tue, \n",
    "            \"receptionOnWednesday\": wed, \n",
    "            \"receptionOnThursday\": thu, \n",
    "            \"receptionOnFriday\": fri, \n",
    "            \"receptionOnSaturday\": sat,\n",
    "            \"graduationYear\" : graduationYear,\n",
    "            \"academicInstitution\": academicInstitution, \n",
    "            \"profession\": profession,\n",
    "            \"specialization\": specialization,\n",
    "            \"specializationMedicalInstitution\": specializationMedicalInstitution,\n",
    "            \"specializationYear\": specializationYear\n",
    "        }\n",
    "            \n",
    "        dfToReturn = dfToReturn.append(rowObg, ignore_index=True)\n",
    "    return dfToReturn"
   ]
  },
  {
   "cell_type": "markdown",
   "id": "44a99868",
   "metadata": {},
   "source": [
    "Scrape one field:"
   ]
  },
  {
   "cell_type": "markdown",
   "id": "cd614df8",
   "metadata": {},
   "source": [
    ">> ## 2.4.4 Scrape field function"
   ]
  },
  {
   "cell_type": "markdown",
   "id": "4ad8c87c",
   "metadata": {},
   "source": [
    "#### scrapeOneField(fieldID, startFromPage = None):\n",
    "The function returns the entire appoitments data about the given field.\\\n",
    "It's loop the entire field page and scrapes each page using **scrapePage(results)** function.\\\n",
    "The function returns a temporary dataframe that includes all the appoitments details on the given field."
   ]
  },
  {
   "cell_type": "code",
   "execution_count": 1512,
   "id": "23ffbd6e",
   "metadata": {},
   "outputs": [],
   "source": [
    "def scrapeOneField(fieldID, startFromPage = None):  \n",
    "    dfToReturn = pd.DataFrame()\n",
    "    driver.get(URL+'?Field='+str(fieldID))\n",
    "    submitBtn = driver.find_element(By.ID, \"SearchButton\").click()\n",
    "    element = WebDriverWait(driver, 10).until(EC.presence_of_element_located((By.CLASS_NAME, \"docResualtWrap\")))\n",
    "    numOfDoctors = getNumOfDoctors(getElement(driver, By.CLASS_NAME, \"t_B_13\", \"text\"))\n",
    "        \n",
    "    print(\"[\"+str(datetime.now().strftime('%H:%M:%S'))+\"]: Now scraping treatment field \\\"\",row[1][\"V\"], \"\\\" (\"+numOfDoctors+\" appointments)...\")\n",
    "    results = driver.find_elements(By.CLASS_NAME, \"docResualtWrap\")\n",
    "    nextPage = 1\n",
    "    if(startFromPage != None):\n",
    "        for page in range(1, startFromPage):\n",
    "            nextPage = getElement(driver, By.CLASS_NAME, \"pagingNextButton\", \"object\")\n",
    "            e = driver.find_element(By.CLASS_NAME,\"docResualtWrap\")\n",
    "            if(nextPage == None):\n",
    "                break\n",
    "            driver.execute_script(\"arguments[0].click();\", nextPage)\n",
    "            element = WebDriverWait(driver, 10).until(EC.staleness_of(e))\n",
    "\n",
    "    while(nextPage != None):\n",
    "        try:\n",
    "            results = getElement(driver, By.CLASS_NAME,\"docResualtWrap\", \"object\", elements=True)\n",
    "            scrapeResults = scrapePage(results)\n",
    "            dfToReturn = dfToReturn.append(scrapeResults, ignore_index=True)\n",
    "            nextPage = getElement(driver, By.CLASS_NAME, \"pagingNextButton\", \"object\")\n",
    "            e = driver.find_element(By.CLASS_NAME,\"docResualtWrap\")\n",
    "            if(nextPage == None):\n",
    "                break\n",
    "            driver.execute_script(\"arguments[0].click();\", nextPage)\n",
    "            element = WebDriverWait(driver, 10).until(EC.staleness_of(e))\n",
    "        except StaleElementReferenceException as e:\n",
    "            break    \n",
    "    return dfToReturn, numOfDoctors"
   ]
  },
  {
   "cell_type": "markdown",
   "id": "5b02383f",
   "metadata": {},
   "source": [
    "> ## 2.3 The crawling:"
   ]
  },
  {
   "cell_type": "markdown",
   "id": "91fe883c",
   "metadata": {},
   "source": [
    "After all the hard work we can start the work of scraping.\\\n",
    "First, Lets define our dataframe:"
   ]
  },
  {
   "cell_type": "code",
   "execution_count": 1568,
   "id": "9a992205",
   "metadata": {},
   "outputs": [],
   "source": [
    "df = pd.DataFrame()"
   ]
  },
  {
   "cell_type": "markdown",
   "id": "7e49f630",
   "metadata": {},
   "source": [
    "Using the functions i wrote above we can start scraping,\\\n",
    "I'm going to loop each field and use the **scrapeOneField()** function that returns a dataframe of the given field.\\\n",
    "Every dataframe that returns will append to the main dataframe.\\\n",
    "Lets do this!"
   ]
  },
  {
   "cell_type": "code",
   "execution_count": 1579,
   "id": "f36c6c2b",
   "metadata": {},
   "outputs": [
    {
     "name": "stdout",
     "output_type": "stream",
     "text": [
      "[WARNING]: This action can take between 6-9 hours.\n",
      "Please be patient and do not mess with the Firefox window running in the background.\n",
      "\n",
      "[29/04/2022 09:51]: Scraping strted.\n",
      "[09:51:04]: Now scraping treatment field \" אולטרה-סאונד גינקולוגי ומיילדותי \" (128 appointments)...\n",
      "[09:57:30]: Now scraping treatment field \" אולטרסאונד נשים (על קול) \" (128 appointments)...\n",
      "[10:03:49]: Now scraping treatment field \" אונקולוגיה \" (88 appointments)...\n",
      "[10:05:34]: Now scraping treatment field \" אונקולוגיה - גידולי מערכת העיכול \" (17 appointments)...\n",
      "[10:06:13]: Now scraping treatment field \" אונקולוגיה - גידולי ראש צוואר \" (4 appointments)...\n",
      "[10:06:22]: Now scraping treatment field \" אונקולוגיה - גידולי רדיותרפיה \" (5 appointments)...\n",
      "[10:06:37]: Now scraping treatment field \" אונקולוגיה - גידולי ריאה \" (9 appointments)...\n",
      "[10:07:03]: Now scraping treatment field \" אונקולוגיה - גידולי שד \" (23 appointments)...\n",
      "[10:08:06]: Now scraping treatment field \" אונקולוגיה - גידולים אורולוגים \" (16 appointments)...\n",
      "[10:08:55]: Now scraping treatment field \" אונקולוגיה של העין \" (2 appointments)...\n",
      "[10:09:01]: Now scraping treatment field \" אורוגינקולוגיה \" (32 appointments)...\n",
      "[10:09:57]: Now scraping treatment field \" אורולוגיה \" (283 appointments)...\n",
      "[10:20:28]: Now scraping treatment field \" אורולוגיה ילדים \" (32 appointments)...\n",
      "[10:21:48]: Now scraping treatment field \" אורתופדיה \" (708 appointments)...\n",
      "[10:48:49]: Now scraping treatment field \" אורתופדיה אונקולוגית \" (6 appointments)...\n",
      "[10:49:08]: Now scraping treatment field \" אורתופדיה ברכיים \" (56 appointments)...\n",
      "[10:50:56]: Now scraping treatment field \" אורתופדיה החלפות מפרקים \" (81 appointments)...\n",
      "[10:52:57]: Now scraping treatment field \" אורתופדיה ילדים \" (64 appointments)...\n",
      "[10:55:25]: Now scraping treatment field \" אורתופדיה מרפק וכתף \" (57 appointments)...\n",
      "[10:57:29]: Now scraping treatment field \" אורתופדיה עמוד שדרה \" (50 appointments)...\n",
      "[10:58:56]: Now scraping treatment field \" אורתופדיה קרסול וכף רגל \" (46 appointments)...\n",
      "[11:00:43]: Now scraping treatment field \" אורתופדיה של היד \" (55 appointments)...\n",
      "[11:03:16]: Now scraping treatment field \" אורתופדית כתף \" (57 appointments)...\n",
      "[11:05:17]: Now scraping treatment field \" אימונולוגיה/אלרגולוגיה \" (60 appointments)...\n",
      "[11:07:53]: Now scraping treatment field \" אנדוקרינולוגיה \" (243 appointments)...\n",
      "[11:19:14]: Now scraping treatment field \" אנדוקרינולוגיה ילדים \" (74 appointments)...\n",
      "[11:22:45]: Now scraping treatment field \" אנטיקואגולנטים (נוגדי קרישה) \" (1 appointments)...\n",
      "[11:22:53]: Now scraping treatment field \" אף אוזן וגרון \" (351 appointments)...\n",
      "[11:37:39]: Now scraping treatment field \" בדיקות קרדיולוגיות \" (34 appointments)...\n",
      "[11:38:40]: Now scraping treatment field \" גינקולוגיה אונקולוגית \" (21 appointments)...\n",
      "[11:38:52]: Now scraping treatment field \" גנטיקה \" (20 appointments)...\n",
      "[11:39:27]: Now scraping treatment field \" גסטרואנטרולוגיה \" (275 appointments)...\n",
      "[11:51:25]: Now scraping treatment field \" גסטרואנטרולוגיה ילדים \" (38 appointments)...\n",
      "[11:53:11]: Now scraping treatment field \" גריאטריה \" (74 appointments)...\n",
      "[11:56:28]: Now scraping treatment field \" המטולוגיה \" (84 appointments)...\n",
      "[12:00:29]: Now scraping treatment field \" המטולוגיה ילדים \" (16 appointments)...\n",
      "[12:01:16]: Now scraping treatment field \" הפרעת קשב ופעלתנות יתר בילדים \" (214 appointments)...\n",
      "[12:10:28]: Now scraping treatment field \" הפרעת קשב ופעלתנות יתר במבוגרים \" (402 appointments)...\n",
      "[12:27:29]: Now scraping treatment field \" טיפול בכאב \" (36 appointments)...\n",
      "[12:28:58]: Now scraping treatment field \" ייעוץ מיני \" (3 appointments)...\n",
      "[12:29:11]: Now scraping treatment field \" ילדים \" (764 appointments)...\n",
      "[13:08:13]: Now scraping treatment field \" יתר לחץ דם \" (14 appointments)...\n",
      "[13:08:39]: Now scraping treatment field \" כירורגיה \" (701 appointments)...\n",
      "[13:37:57]: Now scraping treatment field \" כירורגיה - בריאטריה קיצור קיבה \" (26 appointments)...\n",
      "[13:38:43]: Now scraping treatment field \" כירורגיה ילדים \" (50 appointments)...\n",
      "[13:41:10]: Now scraping treatment field \" כירורגיה לשחזורי שד \" (10 appointments)...\n",
      "[13:41:23]: Now scraping treatment field \" כירורגיה פלסטית \" (89 appointments)...\n",
      "[13:44:52]: Now scraping treatment field \" כירורגיה פרוקטולוגית \" (31 appointments)...\n",
      "[13:46:02]: Now scraping treatment field \" כירורגיה של כף היד \" (55 appointments)...\n",
      "[13:48:26]: Now scraping treatment field \" כירורגיית פה ולסתות \" (7 appointments)...\n",
      "[13:48:46]: Now scraping treatment field \" כירורגית בית חזה \" (31 appointments)...\n",
      "[13:49:01]: Now scraping treatment field \" כירורגית כלי דם \" (52 appointments)...\n",
      "[13:51:06]: Now scraping treatment field \" כירורגית שד \" (425 appointments)...\n",
      "[14:08:21]: Now scraping treatment field \" ליפידים (שומנים בדם) \" (1 appointments)...\n",
      "[14:08:27]: Now scraping treatment field \" מחלות זיהומיות \" (20 appointments)...\n",
      "[14:09:16]: Now scraping treatment field \" מחלות זיהומיות ילדים \" (3 appointments)...\n",
      "[14:09:25]: Now scraping treatment field \" מחלות כבד \" (26 appointments)...\n",
      "[14:10:36]: Now scraping treatment field \" מחלות ריאה \" (132 appointments)...\n",
      "[14:16:33]: Now scraping treatment field \" מחלות ריאה ילדים \" (44 appointments)...\n",
      "[14:18:28]: Now scraping treatment field \" מעקב הריונות מיוחדים \" (73 appointments)...\n",
      "[14:21:27]: Now scraping treatment field \" משפחה,פנימית וכללית \" (1799 appointments)...\n",
      "[16:02:33]: Now scraping treatment field \" נאונטולוגיה (ילודים ופגים) \" (8 appointments)...\n",
      "[16:03:00]: Now scraping treatment field \" נוירואופטלמולוגיה \" (12 appointments)...\n",
      "[16:03:41]: Now scraping treatment field \" נוירואופטלמולוגיית ילדים \" (12 appointments)...\n",
      "[16:04:22]: Now scraping treatment field \" נוירוכירורגיה \" (36 appointments)...\n",
      "[16:04:36]: Now scraping treatment field \" נוירולוגיה \" (286 appointments)...\n",
      "[16:17:31]: Now scraping treatment field \" נוירולוגיה ילדים \" (88 appointments)...\n",
      "[16:20:57]: Now scraping treatment field \" נפרולוגיה \" (82 appointments)...\n",
      "[16:24:29]: Now scraping treatment field \" נפרולוגיה ילדים \" (19 appointments)...\n",
      "[16:25:18]: Now scraping treatment field \" נשים - אנדומטריוזיס \" (6 appointments)...\n",
      "[16:25:36]: Now scraping treatment field \" סוכרת \" (107 appointments)...\n",
      "[16:31:36]: Now scraping treatment field \" סוכרת נעורים \" (4 appointments)...\n",
      "[16:31:55]: Now scraping treatment field \" עור ומין \" (359 appointments)...\n",
      "[16:52:29]: Now scraping treatment field \" עור ומין-נגעים ממאירים \" (7 appointments)...\n",
      "[16:52:53]: Now scraping treatment field \" עור ילדים \" (11 appointments)...\n",
      "[16:53:16]: Now scraping treatment field \" עיניים \" (523 appointments)...\n",
      "[17:21:28]: Now scraping treatment field \" עיניים - פלסטיקה וארובה \" (39 appointments)...\n",
      "[17:23:04]: Now scraping treatment field \" עיניים גלאוקומה \" (34 appointments)...\n",
      "[17:24:51]: Now scraping treatment field \" עיניים ילדים ופזילה \" (48 appointments)...\n",
      "[17:27:04]: Now scraping treatment field \" עיניים קרנית \" (12 appointments)...\n",
      "[17:27:47]: Now scraping treatment field \" עיניים רשתית \" (50 appointments)...\n",
      "[17:29:39]: Now scraping treatment field \" עיניים-דלקת ענביה (הובאיטיס) \" (5 appointments)...\n",
      "[17:29:56]: Now scraping treatment field \" פסיכיאטריה - מבוגרים \" (274 appointments)...\n",
      "[17:42:12]: Now scraping treatment field \" פסיכיאטריה של הזקנה \" (15 appointments)...\n",
      "[17:42:52]: Now scraping treatment field \" פסיכיאטריה של הילד/המתבגר \" (72 appointments)...\n",
      "[17:46:16]: Now scraping treatment field \" פריון האישה \" (103 appointments)...\n",
      "[17:50:04]: Now scraping treatment field \" פריון הגבר \" (15 appointments)...\n",
      "[17:50:21]: Now scraping treatment field \" פתולוגיה \" (7 appointments)...\n",
      "[17:50:45]: Now scraping treatment field \" קרדיולוגיה \" (370 appointments)...\n",
      "[18:05:55]: Now scraping treatment field \" קרדיולוגיה - הפרעות קצב (אלקטרופיזיולוגיה וקוצבים) \" (31 appointments)...\n",
      "[18:06:23]: Now scraping treatment field \" קרדיולוגיה ילדים \" (41 appointments)...\n",
      "[18:08:35]: Now scraping treatment field \" ראומטולוגיה \" (101 appointments)...\n",
      "[18:15:17]: Now scraping treatment field \" ראומטולוגיה ילדים \" (7 appointments)...\n",
      "[18:15:33]: Now scraping treatment field \" רדיולוגיה אבחנתית \" (37 appointments)...\n",
      "[18:15:41]: Now scraping treatment field \" רפואה שיקומית \" (7 appointments)...\n",
      "[18:16:06]: Now scraping treatment field \" רפואה תעסוקתית \" (1 appointments)...\n"
     ]
    },
    {
     "name": "stdout",
     "output_type": "stream",
     "text": [
      "[18:16:12]: Now scraping treatment field \" רפואת הנקה \" (1 appointments)...\n",
      "[18:16:19]: Now scraping treatment field \" רפואת הפה \" (10 appointments)...\n",
      "[18:16:44]: Now scraping treatment field \" רפואת נשים - גיל המעבר \" (12 appointments)...\n",
      "[18:17:04]: Now scraping treatment field \" רפואת נשים - נערות ומתבגרות \" (10 appointments)...\n",
      "[18:17:29]: Now scraping treatment field \" רפואת נשים - צוואר הרחם \" (42 appointments)...\n",
      "[18:19:29]: Now scraping treatment field \" רפואת נשים/גינקולוגיה \" (1033 appointments)...\n",
      "\n",
      "[29/04/2022 19:13]: Scraping finished.\n",
      "Total scraping time is: 9.374009506967333 hours.\n",
      "Total appointments scraped: 12183\n"
     ]
    }
   ],
   "source": [
    "sumOfAppointments = 0\n",
    "start = time.time()\n",
    "openNewTabAndSwitch()\n",
    "switchBetween2Tabs() # switch back to the main tab\n",
    "print(\"[WARNING]: This action can take between 6-9 hours.\\nPlease be patient and do not mess with the Firefox window running in the background.\\n\")\n",
    "print(\"[\"+str(datetime.now().strftime('%d/%m/%Y %H:%M'))+\"]: Scraping strted.\")\n",
    "for row in fieldsOfTreatment.iterrows():\n",
    "    tmpDf, aptSum = scrapeOneField(row[1][\"K\"])\n",
    "    aptSum = int(aptSum)\n",
    "    df= df.append(tmpDf, ignore_index=True)\n",
    "    sumOfAppointments += aptSum\n",
    "closeDriverAndBroswer() # close driver & headless broswer\n",
    "print(\"\\n[\"+str(datetime.now().strftime('%d/%m/%Y %H:%M'))+\"]: Scraping finished.\")\n",
    "end = time.time()\n",
    "print(\"Total scraping time is:\", (end - start)/ 3600, \"hours.\")\n",
    "print(\"Total appointments scraped:\", sumOfAppointments)"
   ]
  },
  {
   "cell_type": "markdown",
   "id": "cd7f353c",
   "metadata": {},
   "source": [
    "Wow!\\\n",
    "It took a long time, let's hope the wait was not in vain.\\\n",
    "Let's see what we got!"
   ]
  },
  {
   "cell_type": "code",
   "execution_count": 1596,
   "id": "5c65cb97",
   "metadata": {
    "scrolled": false
   },
   "outputs": [
    {
     "data": {
      "text/html": [
       "<div>\n",
       "<style scoped>\n",
       "    .dataframe tbody tr th:only-of-type {\n",
       "        vertical-align: middle;\n",
       "    }\n",
       "\n",
       "    .dataframe tbody tr th {\n",
       "        vertical-align: top;\n",
       "    }\n",
       "\n",
       "    .dataframe thead th {\n",
       "        text-align: right;\n",
       "    }\n",
       "</style>\n",
       "<table border=\"1\" class=\"dataframe\">\n",
       "  <thead>\n",
       "    <tr style=\"text-align: right;\">\n",
       "      <th></th>\n",
       "      <th>docTitle</th>\n",
       "      <th>docName</th>\n",
       "      <th>gender</th>\n",
       "      <th>firstSpeciality</th>\n",
       "      <th>secountSpeciality</th>\n",
       "      <th>...</th>\n",
       "      <th>academicInstitution</th>\n",
       "      <th>profession</th>\n",
       "      <th>specialization</th>\n",
       "      <th>specializationMedicalInstitution</th>\n",
       "      <th>specializationYear</th>\n",
       "    </tr>\n",
       "  </thead>\n",
       "  <tbody>\n",
       "    <tr>\n",
       "      <th>0</th>\n",
       "      <td>ד\"ר</td>\n",
       "      <td>עלימי יחיא מונא</td>\n",
       "      <td>F</td>\n",
       "      <td>אולטראסאונד נשים (על קול)</td>\n",
       "      <td>None</td>\n",
       "      <td>...</td>\n",
       "      <td>אוני' העברית ירושלים</td>\n",
       "      <td>רפואה</td>\n",
       "      <td>רפואת נשים</td>\n",
       "      <td></td>\n",
       "      <td>2017</td>\n",
       "    </tr>\n",
       "    <tr>\n",
       "      <th>1</th>\n",
       "      <td>ד\"ר</td>\n",
       "      <td>שטופמאכר יוסף</td>\n",
       "      <td>M</td>\n",
       "      <td>אולטראסאונד נשים (על קול)</td>\n",
       "      <td>None</td>\n",
       "      <td>...</td>\n",
       "      <td>אוני' פורונז', בריה\"מ</td>\n",
       "      <td>רפואה</td>\n",
       "      <td>רפואת נשים</td>\n",
       "      <td>בי\"ח - סורוקה ישראל</td>\n",
       "      <td>1997</td>\n",
       "    </tr>\n",
       "    <tr>\n",
       "      <th>2</th>\n",
       "      <td>פרופ'</td>\n",
       "      <td>טלר ישראל</td>\n",
       "      <td>M</td>\n",
       "      <td>אולטראסאונד נשים (על קול)</td>\n",
       "      <td>נשים - גינקולוגיה</td>\n",
       "      <td>...</td>\n",
       "      <td>אוני' העברית ירושלים</td>\n",
       "      <td>רפואה</td>\n",
       "      <td>רפואת נשים</td>\n",
       "      <td>בי\"ח - רמב\"ם ישראל</td>\n",
       "      <td>1981</td>\n",
       "    </tr>\n",
       "    <tr>\n",
       "      <th>3</th>\n",
       "      <td>ד\"ר</td>\n",
       "      <td>אבירם רמי</td>\n",
       "      <td>M</td>\n",
       "      <td>אולטראסאונד נשים (על קול)</td>\n",
       "      <td>None</td>\n",
       "      <td>...</td>\n",
       "      <td>אוניברסיטת תל אביב</td>\n",
       "      <td>רפואה</td>\n",
       "      <td>רפואת נשים</td>\n",
       "      <td>בי\"ח - רבין ישראל</td>\n",
       "      <td>1988</td>\n",
       "    </tr>\n",
       "    <tr>\n",
       "      <th>4</th>\n",
       "      <td>ד\"ר</td>\n",
       "      <td>ברנן רפאל</td>\n",
       "      <td>M</td>\n",
       "      <td>אולטראסאונד נשים (על קול)</td>\n",
       "      <td>None</td>\n",
       "      <td>...</td>\n",
       "      <td>אוניברסיטת תל אביב</td>\n",
       "      <td>רפואה</td>\n",
       "      <td>רפואת נשים</td>\n",
       "      <td>בי\"ח - וולפסון ישראל</td>\n",
       "      <td>1992</td>\n",
       "    </tr>\n",
       "    <tr>\n",
       "      <th>...</th>\n",
       "      <td>...</td>\n",
       "      <td>...</td>\n",
       "      <td>...</td>\n",
       "      <td>...</td>\n",
       "      <td>...</td>\n",
       "      <td>...</td>\n",
       "      <td>...</td>\n",
       "      <td>...</td>\n",
       "      <td>...</td>\n",
       "      <td>...</td>\n",
       "      <td>...</td>\n",
       "    </tr>\n",
       "    <tr>\n",
       "      <th>10082</th>\n",
       "      <td>ד\"ר</td>\n",
       "      <td>רבינוביץ' אירה</td>\n",
       "      <td>F</td>\n",
       "      <td>נשים - גינקולוגיה</td>\n",
       "      <td>None</td>\n",
       "      <td>...</td>\n",
       "      <td>אוניברסיטת תל אביב</td>\n",
       "      <td>רפואה</td>\n",
       "      <td>None</td>\n",
       "      <td>None</td>\n",
       "      <td>None</td>\n",
       "    </tr>\n",
       "    <tr>\n",
       "      <th>10083</th>\n",
       "      <td>ד\"ר</td>\n",
       "      <td>קוזמין אולגה</td>\n",
       "      <td>F</td>\n",
       "      <td>נשים - גינקולוגיה</td>\n",
       "      <td>None</td>\n",
       "      <td>...</td>\n",
       "      <td>בי\"ח - העמק ישראל</td>\n",
       "      <td>רפואת נשים</td>\n",
       "      <td>None</td>\n",
       "      <td>None</td>\n",
       "      <td>None</td>\n",
       "    </tr>\n",
       "    <tr>\n",
       "      <th>10084</th>\n",
       "      <td>ד\"ר</td>\n",
       "      <td>קוזמין אולגה</td>\n",
       "      <td>F</td>\n",
       "      <td>הריון בסיכון גבוה</td>\n",
       "      <td>None</td>\n",
       "      <td>...</td>\n",
       "      <td>בי\"ח - העמק ישראל</td>\n",
       "      <td>רפואת נשים</td>\n",
       "      <td>None</td>\n",
       "      <td>None</td>\n",
       "      <td>None</td>\n",
       "    </tr>\n",
       "    <tr>\n",
       "      <th>10085</th>\n",
       "      <td>ד\"ר</td>\n",
       "      <td>סגל יעקב</td>\n",
       "      <td>M</td>\n",
       "      <td>צוואר הרחם/מחלות העריה</td>\n",
       "      <td>None</td>\n",
       "      <td>...</td>\n",
       "      <td>הטכניון חיפה</td>\n",
       "      <td>רפואה</td>\n",
       "      <td>רפואת נשים</td>\n",
       "      <td>בי\"ח - רבין ישראל</td>\n",
       "      <td>1989</td>\n",
       "    </tr>\n",
       "    <tr>\n",
       "      <th>10086</th>\n",
       "      <td>ד\"ר</td>\n",
       "      <td>שוורץ אילן</td>\n",
       "      <td>M</td>\n",
       "      <td>נשים - גינקולוגיה</td>\n",
       "      <td>None</td>\n",
       "      <td>...</td>\n",
       "      <td>אוניברסיטת תל אביב</td>\n",
       "      <td>רפואה</td>\n",
       "      <td>רפואת נשים</td>\n",
       "      <td>בי\"ח - סורוקה ישראל</td>\n",
       "      <td>1996</td>\n",
       "    </tr>\n",
       "  </tbody>\n",
       "</table>\n",
       "<p>10087 rows × 34 columns</p>\n",
       "</div>"
      ],
      "text/plain": [
       "      docTitle          docName gender            firstSpeciality  \\\n",
       "0          ד\"ר  עלימי יחיא מונא      F  אולטראסאונד נשים (על קול)   \n",
       "1          ד\"ר    שטופמאכר יוסף      M  אולטראסאונד נשים (על קול)   \n",
       "2        פרופ'        טלר ישראל      M  אולטראסאונד נשים (על קול)   \n",
       "3          ד\"ר        אבירם רמי      M  אולטראסאונד נשים (על קול)   \n",
       "4          ד\"ר        ברנן רפאל      M  אולטראסאונד נשים (על קול)   \n",
       "...        ...              ...    ...                        ...   \n",
       "10082      ד\"ר   רבינוביץ' אירה      F          נשים - גינקולוגיה   \n",
       "10083      ד\"ר     קוזמין אולגה      F          נשים - גינקולוגיה   \n",
       "10084      ד\"ר     קוזמין אולגה      F          הריון בסיכון גבוה   \n",
       "10085      ד\"ר         סגל יעקב      M     צוואר הרחם/מחלות העריה   \n",
       "10086      ד\"ר       שוורץ אילן      M          נשים - גינקולוגיה   \n",
       "\n",
       "       secountSpeciality  ...    academicInstitution  profession  \\\n",
       "0                   None  ...   אוני' העברית ירושלים       רפואה   \n",
       "1                   None  ...  אוני' פורונז', בריה\"מ       רפואה   \n",
       "2      נשים - גינקולוגיה  ...   אוני' העברית ירושלים       רפואה   \n",
       "3                   None  ...     אוניברסיטת תל אביב       רפואה   \n",
       "4                   None  ...     אוניברסיטת תל אביב       רפואה   \n",
       "...                  ...  ...                    ...         ...   \n",
       "10082               None  ...     אוניברסיטת תל אביב       רפואה   \n",
       "10083               None  ...      בי\"ח - העמק ישראל  רפואת נשים   \n",
       "10084               None  ...      בי\"ח - העמק ישראל  רפואת נשים   \n",
       "10085               None  ...           הטכניון חיפה       רפואה   \n",
       "10086               None  ...     אוניברסיטת תל אביב       רפואה   \n",
       "\n",
       "      specialization specializationMedicalInstitution specializationYear  \n",
       "0         רפואת נשים                                                2017  \n",
       "1         רפואת נשים              בי\"ח - סורוקה ישראל               1997  \n",
       "2         רפואת נשים               בי\"ח - רמב\"ם ישראל               1981  \n",
       "3         רפואת נשים                בי\"ח - רבין ישראל               1988  \n",
       "4         רפואת נשים             בי\"ח - וולפסון ישראל               1992  \n",
       "...              ...                              ...                ...  \n",
       "10082           None                             None               None  \n",
       "10083           None                             None               None  \n",
       "10084           None                             None               None  \n",
       "10085     רפואת נשים                בי\"ח - רבין ישראל               1989  \n",
       "10086     רפואת נשים              בי\"ח - סורוקה ישראל               1996  \n",
       "\n",
       "[10087 rows x 34 columns]"
      ]
     },
     "execution_count": 1596,
     "metadata": {},
     "output_type": "execute_result"
    }
   ],
   "source": [
    "df"
   ]
  },
  {
   "cell_type": "markdown",
   "id": "94b2c519",
   "metadata": {},
   "source": [
    "Okay, that looks great.\\\n",
    "Undoubtedly the information meets the minimum requirements (50K data item).\\\n",
    "Let's check just how many:"
   ]
  },
  {
   "cell_type": "code",
   "execution_count": 1583,
   "id": "38d20b7d",
   "metadata": {},
   "outputs": [
    {
     "name": "stdout",
     "output_type": "stream",
     "text": [
      "10087 * 34 = 342958 data items.\n"
     ]
    }
   ],
   "source": [
    "print(df.shape[0], \"*\", df.shape[1], \"=\", df.shape[0]*df.shape[1], \"data items.\")"
   ]
  },
  {
   "cell_type": "markdown",
   "id": "767e1947",
   "metadata": {},
   "source": [
    "Great! lets contiune."
   ]
  },
  {
   "cell_type": "markdown",
   "id": "dbfb93e8",
   "metadata": {},
   "source": [
    "As you may have noticed there is a big gap between the number of all the doctors we scraped from the Maccabi website,\\\n",
    "and the number of lines in my dataframe.\\\n",
    "The difference is due to 2 reasons:\n",
    "1. The number of doctors listed is the number of doctors who were at the beginning of the search,\\\n",
    "as you know the search took a long time and during which appointments were scheduled / canceled.\n",
    "2. The number of doctors on the list is the total number of doctors who work at the Maccabi HMO.\\\n",
    "Our study refers to Maccabi doctors in public medicine only,\\\n",
    "that the payment for the appointment is covered by health insurance or a minimum deductible\\\n",
    "and therefore the code adds to the dataframe only doctors from public medicine."
   ]
  },
  {
   "cell_type": "markdown",
   "id": "585e5d7f",
   "metadata": {},
   "source": [
    "After all this is said, let's save the dataframe we got to the CSV file.\\\n",
    "We save the dataframe in the \"utf-8-sig\" encoding because the information includes Hebrew characters\\ \n",
    "and we must use the appropriate encoding so that we can read from it in the following steps."
   ]
  },
  {
   "cell_type": "code",
   "execution_count": 1584,
   "id": "3d837ca2",
   "metadata": {},
   "outputs": [
    {
     "name": "stdout",
     "output_type": "stream",
     "text": [
      "Dataframe saved as CSV file.\n"
     ]
    }
   ],
   "source": [
    "df.to_csv(\"data/data_after_scraping.csv\", encoding='utf-8-sig')\n",
    "print(\"Dataframe saved as CSV file.\")"
   ]
  },
  {
   "cell_type": "markdown",
   "id": "9952fd66",
   "metadata": {},
   "source": [
    "Amazing, let's continue to the data clearing step."
   ]
  }
 ],
 "metadata": {
  "kernelspec": {
   "display_name": "Python 3 (ipykernel)",
   "language": "python",
   "name": "python3"
  },
  "language_info": {
   "codemirror_mode": {
    "name": "ipython",
    "version": 3
   },
   "file_extension": ".py",
   "mimetype": "text/x-python",
   "name": "python",
   "nbconvert_exporter": "python",
   "pygments_lexer": "ipython3",
   "version": "3.9.7"
  }
 },
 "nbformat": 4,
 "nbformat_minor": 5
}
